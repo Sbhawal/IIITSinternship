{
 "cells": [
  {
   "cell_type": "code",
   "execution_count": null,
   "metadata": {
    "id": "UKcfiJlqJaSA"
   },
   "outputs": [],
   "source": [
    "!pip install ktrain"
   ]
  },
  {
   "cell_type": "code",
   "execution_count": null,
   "metadata": {
    "colab": {
     "base_uri": "https://localhost:8080/"
    },
    "id": "-b0FRCi-6yk2",
    "outputId": "33217e21-c466-42d6-c326-85f61e4f4d09"
   },
   "outputs": [
    {
     "name": "stdout",
     "output_type": "stream",
     "text": [
      "Mounted at /content/drive\n"
     ]
    }
   ],
   "source": [
    "from google.colab import drive\n",
    "drive.mount('/content/drive')"
   ]
  },
  {
   "cell_type": "code",
   "execution_count": null,
   "metadata": {
    "id": "HeCKI01LJe7L"
   },
   "outputs": [],
   "source": [
    "import tensorflow as tf\n",
    "import pandas as pd\n",
    "import numpy as np\n",
    "import ktrain\n",
    "from ktrain import text\n",
    "import tensorflow as tf"
   ]
  },
  {
   "cell_type": "code",
   "execution_count": null,
   "metadata": {
    "colab": {
     "base_uri": "https://localhost:8080/"
    },
    "id": "nMUORxgfJe9b",
    "outputId": "28e149b1-8e89-4a8b-bbe5-5ebaf18c547d"
   },
   "outputs": [
    {
     "name": "stdout",
     "output_type": "stream",
     "text": [
      "1 Physical GPUs, 1 Logical GPUs\n",
      "Version:  2.5.0\n",
      "Eager mode:  True\n",
      "GPU is available\n"
     ]
    }
   ],
   "source": [
    "gpus = tf.config.experimental.list_physical_devices('GPU')\n",
    "if gpus:\n",
    "  try:\n",
    "    # Currently, memory growth needs to be the same across GPUs\n",
    "    for gpu in gpus:\n",
    "      tf.config.experimental.set_memory_growth(gpu, True)\n",
    "    logical_gpus = tf.config.experimental.list_logical_devices('GPU')\n",
    "    print(len(gpus), \"Physical GPUs,\", len(logical_gpus), \"Logical GPUs\")\n",
    "  except RuntimeError as e:\n",
    "    # Memory growth must be set before GPUs have been initialized\n",
    "    print(e)\n",
    "\n",
    "print(\"Version: \", tf.__version__)\n",
    "print(\"Eager mode: \", tf.executing_eagerly())\n",
    "\n",
    "print(\"GPU is\", \"available\" if tf.config.list_physical_devices('GPU') else \"NOT AVAILABLE\")"
   ]
  },
  {
   "cell_type": "code",
   "execution_count": null,
   "metadata": {
    "id": "aVEmkZacJe_T"
   },
   "outputs": [],
   "source": [
    "data_test = pd.read_csv('/content/drive/MyDrive/Datasets/malayalam_hasoc_dev.tsv',sep=\"\\t\",names=[\"ID\",\"Tweets\",\"Label\"])\n",
    "data_train = pd.read_excel('/content/drive/MyDrive/Datasets/Malayalam__hasoc_train.xlsx',names=[\"ID\",\"Tweets\",\"Label\"])"
   ]
  },
  {
   "cell_type": "code",
   "execution_count": null,
   "metadata": {
    "colab": {
     "base_uri": "https://localhost:8080/"
    },
    "id": "e65805AEJfBJ",
    "outputId": "16d39ca7-4b60-4ebf-80c1-517991d5c5c0"
   },
   "outputs": [
    {
     "name": "stdout",
     "output_type": "stream",
     "text": [
      "Size of train dataset:  (4000, 3)\n",
      "Size of test dataset:  (951, 3)\n"
     ]
    }
   ],
   "source": [
    "print(\"Size of train dataset: \",data_train.shape)\n",
    "print(\"Size of test dataset: \",data_test.shape)"
   ]
  },
  {
   "cell_type": "code",
   "execution_count": null,
   "metadata": {
    "id": "zxYcu2XZbO1A"
   },
   "outputs": [],
   "source": [
    "data_train = data_train.dropna()\n",
    "data_train = data_train.reset_index(drop=True)\n",
    "\n",
    "data_test = data_test.dropna()\n",
    "data_test = data_test.reset_index(drop=True)"
   ]
  },
  {
   "cell_type": "code",
   "execution_count": null,
   "metadata": {
    "colab": {
     "base_uri": "https://localhost:8080/",
     "height": 204
    },
    "id": "q0hVA-0GbO3W",
    "outputId": "27c1815c-895e-4497-a034-6612f31dffca"
   },
   "outputs": [
    {
     "data": {
      "text/html": [
       "<div>\n",
       "<style scoped>\n",
       "    .dataframe tbody tr th:only-of-type {\n",
       "        vertical-align: middle;\n",
       "    }\n",
       "\n",
       "    .dataframe tbody tr th {\n",
       "        vertical-align: top;\n",
       "    }\n",
       "\n",
       "    .dataframe thead th {\n",
       "        text-align: right;\n",
       "    }\n",
       "</style>\n",
       "<table border=\"1\" class=\"dataframe\">\n",
       "  <thead>\n",
       "    <tr style=\"text-align: right;\">\n",
       "      <th></th>\n",
       "      <th>ID</th>\n",
       "      <th>Tweets</th>\n",
       "      <th>Label</th>\n",
       "    </tr>\n",
       "  </thead>\n",
       "  <tbody>\n",
       "    <tr>\n",
       "      <th>0</th>\n",
       "      <td>MA_YT5000</td>\n",
       "      <td>Chenkol vendath thanne aayirunnu....</td>\n",
       "      <td>NOT</td>\n",
       "    </tr>\n",
       "    <tr>\n",
       "      <th>1</th>\n",
       "      <td>MA_YT5001</td>\n",
       "      <td>Sundardasinte bhakshnam vakkukal ano?</td>\n",
       "      <td>NOT</td>\n",
       "    </tr>\n",
       "    <tr>\n",
       "      <th>2</th>\n",
       "      <td>MA_YT5002</td>\n",
       "      <td>Akasha dooth oru copy adi movie anu 'Who will ...</td>\n",
       "      <td>NOT</td>\n",
       "    </tr>\n",
       "    <tr>\n",
       "      <th>3</th>\n",
       "      <td>MA_YT5003</td>\n",
       "      <td>Purath onnum pondade... oru pennum payyanum on...</td>\n",
       "      <td>NOT</td>\n",
       "    </tr>\n",
       "    <tr>\n",
       "      <th>4</th>\n",
       "      <td>MA_YT5004</td>\n",
       "      <td>Avasanam Fahad oru Oscar medikkumbazhum lalett...</td>\n",
       "      <td>NOT</td>\n",
       "    </tr>\n",
       "  </tbody>\n",
       "</table>\n",
       "</div>"
      ],
      "text/plain": [
       "          ID                                             Tweets Label\n",
       "0  MA_YT5000               Chenkol vendath thanne aayirunnu....   NOT\n",
       "1  MA_YT5001              Sundardasinte bhakshnam vakkukal ano?   NOT\n",
       "2  MA_YT5002  Akasha dooth oru copy adi movie anu 'Who will ...   NOT\n",
       "3  MA_YT5003  Purath onnum pondade... oru pennum payyanum on...   NOT\n",
       "4  MA_YT5004  Avasanam Fahad oru Oscar medikkumbazhum lalett...   NOT"
      ]
     },
     "execution_count": 12,
     "metadata": {
      "tags": []
     },
     "output_type": "execute_result"
    }
   ],
   "source": [
    "data_test.head()"
   ]
  },
  {
   "cell_type": "code",
   "execution_count": null,
   "metadata": {
    "id": "Fi5683xWbO5X"
   },
   "outputs": [],
   "source": []
  },
  {
   "cell_type": "code",
   "execution_count": null,
   "metadata": {
    "id": "LKrHIh43bO7h"
   },
   "outputs": [],
   "source": []
  },
  {
   "cell_type": "code",
   "execution_count": null,
   "metadata": {
    "id": "eMQVBbZXbO9Y"
   },
   "outputs": [],
   "source": []
  },
  {
   "cell_type": "code",
   "execution_count": null,
   "metadata": {
    "id": "p5PCS5tHbO_q"
   },
   "outputs": [],
   "source": []
  },
  {
   "cell_type": "code",
   "execution_count": null,
   "metadata": {
    "id": "VGhlVf-CbPB9"
   },
   "outputs": [],
   "source": []
  },
  {
   "cell_type": "code",
   "execution_count": null,
   "metadata": {
    "id": "yrzocphDbPDt"
   },
   "outputs": [],
   "source": []
  },
  {
   "cell_type": "code",
   "execution_count": null,
   "metadata": {
    "colab": {
     "base_uri": "https://localhost:8080/"
    },
    "id": "sUsbHFNk9TFO",
    "outputId": "e6185cb7-e5fb-465b-d13d-7c54e273b470"
   },
   "outputs": [
    {
     "data": {
      "text/plain": [
       "NOT    2047\n",
       "OFF    1953\n",
       "Name: Label, dtype: int64"
      ]
     },
     "execution_count": 15,
     "metadata": {
      "tags": []
     },
     "output_type": "execute_result"
    }
   ],
   "source": [
    "data_train.Label.value_counts()"
   ]
  },
  {
   "cell_type": "code",
   "execution_count": null,
   "metadata": {
    "id": "4gNpUdx_9THm"
   },
   "outputs": [],
   "source": []
  },
  {
   "cell_type": "code",
   "execution_count": null,
   "metadata": {
    "colab": {
     "base_uri": "https://localhost:8080/",
     "height": 265
    },
    "id": "QYdg2C7HJfDC",
    "outputId": "c60e51e7-ed33-44ca-8556-bcdfd3314025"
   },
   "outputs": [
    {
     "data": {
      "image/png": "[encoded data removed]",
      "text/plain": [
       "<Figure size 432x288 with 1 Axes>"
      ]
     },
     "metadata": {
      "needs_background": "light",
      "tags": []
     },
     "output_type": "display_data"
    }
   ],
   "source": [
    "import matplotlib.pyplot as plt\n",
    "classes = data_train.Label.unique()\n",
    "counts = []\n",
    "\n",
    "for i in classes:\n",
    "  count = len(data_train[data_train.Label==i])\n",
    "  counts.append(count)\n",
    "\n",
    "plt.bar(classes, counts)\n",
    "plt.show()"
   ]
  },
  {
   "cell_type": "code",
   "execution_count": null,
   "metadata": {
    "colab": {
     "base_uri": "https://localhost:8080/"
    },
    "id": "9o4X551SJfE6",
    "outputId": "fd5779b7-ab5d-47d6-fb83-f7b248dbc986"
   },
   "outputs": [
    {
     "data": {
      "text/plain": [
       "ID        0\n",
       "Tweets    0\n",
       "Label     0\n",
       "dtype: int64"
      ]
     },
     "execution_count": 22,
     "metadata": {
      "tags": []
     },
     "output_type": "execute_result"
    }
   ],
   "source": [
    "data_train.isnull().sum()"
   ]
  },
  {
   "cell_type": "code",
   "execution_count": null,
   "metadata": {
    "colab": {
     "base_uri": "https://localhost:8080/"
    },
    "id": "r2Va8NLkJfG5",
    "outputId": "5ab185d8-05ff-4233-da36-94e88b2e533e"
   },
   "outputs": [
    {
     "data": {
      "text/plain": [
       "array(['NOT', 'OFF'], dtype=object)"
      ]
     },
     "execution_count": 23,
     "metadata": {
      "tags": []
     },
     "output_type": "execute_result"
    }
   ],
   "source": [
    "data_train.Label.unique()"
   ]
  },
  {
   "cell_type": "code",
   "execution_count": null,
   "metadata": {
    "colab": {
     "base_uri": "https://localhost:8080/"
    },
    "id": "2XTx2qIgJfJN",
    "outputId": "cc936327-45cb-4b30-efca-7fe39b056dc2"
   },
   "outputs": [
    {
     "data": {
      "text/plain": [
       "NOT    51.187797\n",
       "OFF    48.812203\n",
       "Name: Label, dtype: float64"
      ]
     },
     "execution_count": 25,
     "metadata": {
      "tags": []
     },
     "output_type": "execute_result"
    }
   ],
   "source": [
    "data_train.Label.value_counts()/data_train.shape[0]*100"
   ]
  },
  {
   "cell_type": "code",
   "execution_count": null,
   "metadata": {
    "colab": {
     "base_uri": "https://localhost:8080/",
     "height": 389
    },
    "id": "HlJKTZwmJfLU",
    "outputId": "8c3bbf51-5f93-4f42-fa6f-ce037ff0b457"
   },
   "outputs": [
    {
     "name": "stdout",
     "output_type": "stream",
     "text": [
      "['NOT', 'OFF']\n",
      "   NOT  OFF\n",
      "0  1.0  0.0\n",
      "1  0.0  1.0\n",
      "2  0.0  1.0\n",
      "3  1.0  0.0\n",
      "4  0.0  1.0\n",
      "['NOT', 'OFF']\n",
      "   NOT  OFF\n",
      "0  1.0  0.0\n",
      "1  1.0  0.0\n",
      "2  1.0  0.0\n",
      "3  1.0  0.0\n",
      "4  1.0  0.0\n",
      "preprocessing train...\n",
      "language: en\n"
     ]
    },
    {
     "data": {
      "text/html": [
       "done."
      ],
      "text/plain": [
       "<IPython.core.display.HTML object>"
      ]
     },
     "metadata": {
      "tags": []
     },
     "output_type": "display_data"
    },
    {
     "name": "stdout",
     "output_type": "stream",
     "text": [
      "Is Multi-Label? False\n",
      "preprocessing test...\n",
      "language: en\n"
     ]
    },
    {
     "data": {
      "text/html": [
       "done."
      ],
      "text/plain": [
       "<IPython.core.display.HTML object>"
      ]
     },
     "metadata": {
      "tags": []
     },
     "output_type": "display_data"
    }
   ],
   "source": [
    "(X_train, y_train), (X_test, y_test), preproc = text.texts_from_df(train_df=data_train,\n",
    "                                                                   text_column = 'Tweets',\n",
    "                                                                   label_columns = 'Label',\n",
    "                                                                   val_df = data_test,\n",
    "                                                                   maxlen = 150,\n",
    "                                                                   preprocess_mode = 'bert')"
   ]
  },
  {
   "cell_type": "code",
   "execution_count": null,
   "metadata": {
    "id": "cJMxE3fDJfNj"
   },
   "outputs": [],
   "source": []
  },
  {
   "cell_type": "code",
   "execution_count": null,
   "metadata": {
    "colab": {
     "base_uri": "https://localhost:8080/"
    },
    "id": "JJkkLJhpJfPg",
    "outputId": "0a94b12d-66f9-4416-9087-4ea8b592dde0"
   },
   "outputs": [
    {
     "name": "stdout",
     "output_type": "stream",
     "text": [
      "Is Multi-Label? False\n",
      "maxlen is 150\n",
      "done.\n"
     ]
    }
   ],
   "source": [
    "model = text.text_classifier(name = 'bert',\n",
    "                             train_data = (X_train, y_train),\n",
    "                             preproc = preproc)"
   ]
  },
  {
   "cell_type": "code",
   "execution_count": null,
   "metadata": {
    "id": "9qkJ4FXUJfRj"
   },
   "outputs": [],
   "source": [
    "learner = ktrain.get_learner(model=model, train_data=(X_train, y_train),\n",
    "                   val_data = (X_test, y_test),\n",
    "                   batch_size = 30)"
   ]
  },
  {
   "cell_type": "code",
   "execution_count": null,
   "metadata": {
    "colab": {
     "base_uri": "https://localhost:8080/"
    },
    "id": "2TISLo07JfT6",
    "outputId": "7cc2797a-6458-4512-8944-f92c7f272141"
   },
   "outputs": [
    {
     "name": "stdout",
     "output_type": "stream",
     "text": [
      "Mon Jul  5 16:12:20 2021       \n",
      "+-----------------------------------------------------------------------------+\n",
      "| NVIDIA-SMI 465.27       Driver Version: 460.32.03    CUDA Version: 11.2     |\n",
      "|-------------------------------+----------------------+----------------------+\n",
      "| GPU  Name        Persistence-M| Bus-Id        Disp.A | Volatile Uncorr. ECC |\n",
      "| Fan  Temp  Perf  Pwr:Usage/Cap|         Memory-Usage | GPU-Util  Compute M. |\n",
      "|                               |                      |               MIG M. |\n",
      "|===============================+======================+======================|\n",
      "|   0  Tesla K80           Off  | 00000000:00:04.0 Off |                    0 |\n",
      "| N/A   67C    P0    71W / 149W |    632MiB / 11441MiB |      0%      Default |\n",
      "|                               |                      |                  N/A |\n",
      "+-------------------------------+----------------------+----------------------+\n",
      "                                                                               \n",
      "+-----------------------------------------------------------------------------+\n",
      "| Processes:                                                                  |\n",
      "|  GPU   GI   CI        PID   Type   Process name                  GPU Memory |\n",
      "|        ID   ID                                                   Usage      |\n",
      "|=============================================================================|\n",
      "+-----------------------------------------------------------------------------+\n"
     ]
    }
   ],
   "source": [
    "!nvidia-smi"
   ]
  },
  {
   "cell_type": "code",
   "execution_count": null,
   "metadata": {
    "id": "2czVsENFJfV-"
   },
   "outputs": [],
   "source": [
    "from sklearn.metrics import classification_report\n"
   ]
  },
  {
   "cell_type": "code",
   "execution_count": null,
   "metadata": {
    "colab": {
     "base_uri": "https://localhost:8080/",
     "height": 438
    },
    "id": "Kqes4CTrJfX7",
    "outputId": "fca9c96b-849f-4ecc-ad53-04ebe849d7d0"
   },
   "outputs": [
    {
     "name": "stdout",
     "output_type": "stream",
     "text": [
      "\n",
      "\n",
      "begin training using onecycle policy with max lr of 2e-05...\n",
      "134/134 [==============================] - 322s 2s/step - loss: 0.6851 - accuracy: 0.5476 - val_loss: 0.6506 - val_accuracy: 0.6404\n"
     ]
    },
    {
     "ename": "AttributeError",
     "evalue": "ignored",
     "output_type": "error",
     "traceback": [
      "\u001b[0;31m---------------------------------------------------------------------------\u001b[0m",
      "\u001b[0;31mAttributeError\u001b[0m                            Traceback (most recent call last)",
      "\u001b[0;32m<ipython-input-32-2949229aef1a>\u001b[0m in \u001b[0;36m<module>\u001b[0;34m()\u001b[0m\n\u001b[1;32m      1\u001b[0m \u001b[0mlearner\u001b[0m\u001b[0;34m.\u001b[0m\u001b[0mfit_onecycle\u001b[0m\u001b[0;34m(\u001b[0m\u001b[0mlr\u001b[0m \u001b[0;34m=\u001b[0m \u001b[0;36m2e-5\u001b[0m\u001b[0;34m,\u001b[0m \u001b[0mepochs\u001b[0m \u001b[0;34m=\u001b[0m \u001b[0;36m1\u001b[0m\u001b[0;34m)\u001b[0m\u001b[0;34m\u001b[0m\u001b[0;34m\u001b[0m\u001b[0m\n\u001b[1;32m      2\u001b[0m \u001b[0mpredictor\u001b[0m \u001b[0;34m=\u001b[0m \u001b[0mktrain\u001b[0m\u001b[0;34m.\u001b[0m\u001b[0mget_predictor\u001b[0m\u001b[0;34m(\u001b[0m\u001b[0mlearner\u001b[0m\u001b[0;34m.\u001b[0m\u001b[0mmodel\u001b[0m\u001b[0;34m,\u001b[0m \u001b[0mpreproc\u001b[0m\u001b[0;34m)\u001b[0m\u001b[0;34m\u001b[0m\u001b[0;34m\u001b[0m\u001b[0m\n\u001b[0;32m----> 3\u001b[0;31m \u001b[0mpred\u001b[0m \u001b[0;34m=\u001b[0m \u001b[0mpredictor\u001b[0m\u001b[0;34m.\u001b[0m\u001b[0mpredict\u001b[0m\u001b[0;34m(\u001b[0m\u001b[0mdata_test\u001b[0m\u001b[0;34m.\u001b[0m\u001b[0mtext\u001b[0m\u001b[0;34m.\u001b[0m\u001b[0mtolist\u001b[0m\u001b[0;34m(\u001b[0m\u001b[0;34m)\u001b[0m\u001b[0;34m)\u001b[0m\u001b[0;34m\u001b[0m\u001b[0;34m\u001b[0m\u001b[0m\n\u001b[0m\u001b[1;32m      4\u001b[0m \u001b[0mprint\u001b[0m\u001b[0;34m(\u001b[0m\u001b[0mclassification_report\u001b[0m\u001b[0;34m(\u001b[0m\u001b[0mdata_test\u001b[0m\u001b[0;34m.\u001b[0m\u001b[0mcategory\u001b[0m\u001b[0;34m.\u001b[0m\u001b[0mtolist\u001b[0m\u001b[0;34m(\u001b[0m\u001b[0;34m)\u001b[0m\u001b[0;34m,\u001b[0m \u001b[0mpred\u001b[0m\u001b[0;34m)\u001b[0m\u001b[0;34m)\u001b[0m\u001b[0;34m\u001b[0m\u001b[0;34m\u001b[0m\u001b[0m\n",
      "\u001b[0;32m/usr/local/lib/python3.7/dist-packages/pandas/core/generic.py\u001b[0m in \u001b[0;36m__getattr__\u001b[0;34m(self, name)\u001b[0m\n\u001b[1;32m   5139\u001b[0m             \u001b[0;32mif\u001b[0m \u001b[0mself\u001b[0m\u001b[0;34m.\u001b[0m\u001b[0m_info_axis\u001b[0m\u001b[0;34m.\u001b[0m\u001b[0m_can_hold_identifiers_and_holds_name\u001b[0m\u001b[0;34m(\u001b[0m\u001b[0mname\u001b[0m\u001b[0;34m)\u001b[0m\u001b[0;34m:\u001b[0m\u001b[0;34m\u001b[0m\u001b[0;34m\u001b[0m\u001b[0m\n\u001b[1;32m   5140\u001b[0m                 \u001b[0;32mreturn\u001b[0m \u001b[0mself\u001b[0m\u001b[0;34m[\u001b[0m\u001b[0mname\u001b[0m\u001b[0;34m]\u001b[0m\u001b[0;34m\u001b[0m\u001b[0;34m\u001b[0m\u001b[0m\n\u001b[0;32m-> 5141\u001b[0;31m             \u001b[0;32mreturn\u001b[0m \u001b[0mobject\u001b[0m\u001b[0;34m.\u001b[0m\u001b[0m__getattribute__\u001b[0m\u001b[0;34m(\u001b[0m\u001b[0mself\u001b[0m\u001b[0;34m,\u001b[0m \u001b[0mname\u001b[0m\u001b[0;34m)\u001b[0m\u001b[0;34m\u001b[0m\u001b[0;34m\u001b[0m\u001b[0m\n\u001b[0m\u001b[1;32m   5142\u001b[0m \u001b[0;34m\u001b[0m\u001b[0m\n\u001b[1;32m   5143\u001b[0m     \u001b[0;32mdef\u001b[0m \u001b[0m__setattr__\u001b[0m\u001b[0;34m(\u001b[0m\u001b[0mself\u001b[0m\u001b[0;34m,\u001b[0m \u001b[0mname\u001b[0m\u001b[0;34m:\u001b[0m \u001b[0mstr\u001b[0m\u001b[0;34m,\u001b[0m \u001b[0mvalue\u001b[0m\u001b[0;34m)\u001b[0m \u001b[0;34m->\u001b[0m \u001b[0;32mNone\u001b[0m\u001b[0;34m:\u001b[0m\u001b[0;34m\u001b[0m\u001b[0;34m\u001b[0m\u001b[0m\n",
      "\u001b[0;31mAttributeError\u001b[0m: 'DataFrame' object has no attribute 'text'"
     ]
    }
   ],
   "source": [
    "learner.fit_onecycle(lr = 2e-5, epochs = 1)\n",
    "predictor = ktrain.get_predictor(learner.model, preproc)\n",
    "pred = predictor.predict(data_test.Tweets.tolist())\n",
    "print(classification_report(data_test.Label.tolist(), pred))\n",
    "\n",
    "#Corrected the error of wrong label in next cell...model training is done"
   ]
  },
  {
   "cell_type": "code",
   "execution_count": null,
   "metadata": {
    "colab": {
     "base_uri": "https://localhost:8080/"
    },
    "id": "8WjL-9XgeWIg",
    "outputId": "78a7d0ce-8c1d-44c5-816c-890f7080a8ce"
   },
   "outputs": [
    {
     "name": "stdout",
     "output_type": "stream",
     "text": [
      "              precision    recall  f1-score   support\n",
      "\n",
      "         NOT       0.71      0.47      0.56       473\n",
      "         OFF       0.61      0.81      0.69       478\n",
      "\n",
      "    accuracy                           0.64       951\n",
      "   macro avg       0.66      0.64      0.63       951\n",
      "weighted avg       0.66      0.64      0.63       951\n",
      "\n"
     ]
    }
   ],
   "source": [
    "pred = predictor.predict(data_test.Tweets.tolist())\n",
    "print(classification_report(data_test.Label.tolist(), pred))"
   ]
  },
  {
   "cell_type": "code",
   "execution_count": null,
   "metadata": {
    "id": "NW05xmfdJfZ5"
   },
   "outputs": [],
   "source": []
  },
  {
   "cell_type": "code",
   "execution_count": null,
   "metadata": {
    "colab": {
     "base_uri": "https://localhost:8080/"
    },
    "id": "4khYNatZJfcM",
    "outputId": "dfdb3be4-435c-4b67-ce48-acc2a9a8f5de"
   },
   "outputs": [
    {
     "name": "stdout",
     "output_type": "stream",
     "text": [
      "\n",
      "\n",
      "begin training using onecycle policy with max lr of 1e-05...\n",
      "134/134 [==============================] - 290s 2s/step - loss: 0.5443 - accuracy: 0.7289 - val_loss: 0.5690 - val_accuracy: 0.7066\n",
      "              precision    recall  f1-score   support\n",
      "\n",
      "         NOT       0.73      0.66      0.69       473\n",
      "         OFF       0.69      0.76      0.72       478\n",
      "\n",
      "    accuracy                           0.71       951\n",
      "   macro avg       0.71      0.71      0.71       951\n",
      "weighted avg       0.71      0.71      0.71       951\n",
      "\n"
     ]
    }
   ],
   "source": [
    "learner.fit_onecycle(lr = 1e-5, epochs = 1)\n",
    "predictor = ktrain.get_predictor(learner.model, preproc)\n",
    "pred = predictor.predict(data_test.Tweets.tolist())\n",
    "print(classification_report(data_test.Label.tolist(), pred))"
   ]
  },
  {
   "cell_type": "code",
   "execution_count": null,
   "metadata": {
    "id": "HbviMHUyJfeb"
   },
   "outputs": [],
   "source": []
  },
  {
   "cell_type": "code",
   "execution_count": null,
   "metadata": {
    "colab": {
     "base_uri": "https://localhost:8080/"
    },
    "id": "-ne8NlpKJfgo",
    "outputId": "062121b2-54a3-4fa9-9b70-6e24d4311a17"
   },
   "outputs": [
    {
     "name": "stdout",
     "output_type": "stream",
     "text": [
      "\n",
      "\n",
      "begin training using onecycle policy with max lr of 1e-05...\n",
      "134/134 [==============================] - 290s 2s/step - loss: 0.4558 - accuracy: 0.7844 - val_loss: 0.5468 - val_accuracy: 0.7308\n",
      "              precision    recall  f1-score   support\n",
      "\n",
      "         NOT       0.73      0.72      0.73       473\n",
      "         OFF       0.73      0.74      0.73       478\n",
      "\n",
      "    accuracy                           0.73       951\n",
      "   macro avg       0.73      0.73      0.73       951\n",
      "weighted avg       0.73      0.73      0.73       951\n",
      "\n"
     ]
    }
   ],
   "source": [
    "learner.fit_onecycle(lr = 1e-5, epochs = 1)\n",
    "predictor = ktrain.get_predictor(learner.model, preproc)\n",
    "pred = predictor.predict(data_test.Tweets.tolist())\n",
    "print(classification_report(data_test.Label.tolist(), pred))"
   ]
  },
  {
   "cell_type": "code",
   "execution_count": null,
   "metadata": {
    "id": "SK0mwAsdJfih"
   },
   "outputs": [],
   "source": []
  },
  {
   "cell_type": "code",
   "execution_count": null,
   "metadata": {
    "colab": {
     "base_uri": "https://localhost:8080/"
    },
    "id": "9uCpbIrBMbV7",
    "outputId": "380a9b41-d79e-4407-c12e-a0ff6cd58160"
   },
   "outputs": [
    {
     "name": "stdout",
     "output_type": "stream",
     "text": [
      "\n",
      "\n",
      "begin training using onecycle policy with max lr of 1e-07...\n",
      "134/134 [==============================] - 290s 2s/step - loss: 0.3648 - accuracy: 0.8507 - val_loss: 0.5463 - val_accuracy: 0.7277\n",
      "              precision    recall  f1-score   support\n",
      "\n",
      "         NOT       0.73      0.73      0.73       473\n",
      "         OFF       0.73      0.73      0.73       478\n",
      "\n",
      "    accuracy                           0.73       951\n",
      "   macro avg       0.73      0.73      0.73       951\n",
      "weighted avg       0.73      0.73      0.73       951\n",
      "\n"
     ]
    }
   ],
   "source": [
    "learner.fit_onecycle(lr = 1e-7, epochs = 1)\n",
    "predictor = ktrain.get_predictor(learner.model, preproc)\n",
    "pred = predictor.predict(data_test.Tweets.tolist())\n",
    "print(classification_report(data_test.Label.tolist(), pred))"
   ]
  },
  {
   "cell_type": "code",
   "execution_count": null,
   "metadata": {
    "id": "j2HMF4-AMbYY"
   },
   "outputs": [],
   "source": []
  },
  {
   "cell_type": "code",
   "execution_count": null,
   "metadata": {
    "colab": {
     "base_uri": "https://localhost:8080/"
    },
    "id": "FLxwXbAAMbZw",
    "outputId": "44594be2-dac2-458b-d165-d93a977bce36"
   },
   "outputs": [
    {
     "name": "stdout",
     "output_type": "stream",
     "text": [
      "\n",
      "\n",
      "begin training using onecycle policy with max lr of 1e-05...\n",
      "Epoch 1/2\n",
      "134/134 [==============================] - 291s 2s/step - loss: 0.3701 - accuracy: 0.8335 - val_loss: 0.5540 - val_accuracy: 0.7245\n",
      "Epoch 2/2\n",
      "134/134 [==============================] - 291s 2s/step - loss: 0.2861 - accuracy: 0.8832 - val_loss: 0.6054 - val_accuracy: 0.7340\n",
      "              precision    recall  f1-score   support\n",
      "\n",
      "         NOT       0.75      0.69      0.72       473\n",
      "         OFF       0.72      0.77      0.75       478\n",
      "\n",
      "    accuracy                           0.73       951\n",
      "   macro avg       0.74      0.73      0.73       951\n",
      "weighted avg       0.74      0.73      0.73       951\n",
      "\n"
     ]
    }
   ],
   "source": [
    "learner.fit_onecycle(lr = 1e-5, epochs = 2)\n",
    "predictor = ktrain.get_predictor(learner.model, preproc)\n",
    "pred = predictor.predict(data_test.Tweets.tolist())\n",
    "print(classification_report(data_test.Label.tolist(), pred))"
   ]
  },
  {
   "cell_type": "code",
   "execution_count": null,
   "metadata": {
    "id": "KEWFrRy3rUJp"
   },
   "outputs": [],
   "source": []
  },
  {
   "cell_type": "code",
   "execution_count": null,
   "metadata": {
    "colab": {
     "base_uri": "https://localhost:8080/"
    },
    "id": "Wa6JIjIerULw",
    "outputId": "5f12ff97-8e80-40d7-bc47-a29a39bcd645"
   },
   "outputs": [
    {
     "name": "stdout",
     "output_type": "stream",
     "text": [
      "\n",
      "\n",
      "begin training using onecycle policy with max lr of 1e-05...\n",
      "Epoch 1/2\n",
      "134/134 [==============================] - 291s 2s/step - loss: 0.2288 - accuracy: 0.9097 - val_loss: 0.6451 - val_accuracy: 0.7319\n",
      "Epoch 2/2\n",
      "134/134 [==============================] - 290s 2s/step - loss: 0.1754 - accuracy: 0.9307 - val_loss: 0.7352 - val_accuracy: 0.7529\n",
      "              precision    recall  f1-score   support\n",
      "\n",
      "         NOT       0.73      0.79      0.76       473\n",
      "         OFF       0.78      0.71      0.74       478\n",
      "\n",
      "    accuracy                           0.75       951\n",
      "   macro avg       0.75      0.75      0.75       951\n",
      "weighted avg       0.75      0.75      0.75       951\n",
      "\n"
     ]
    }
   ],
   "source": [
    "learner.fit_onecycle(lr = 1e-5, epochs = 2)\n",
    "predictor = ktrain.get_predictor(learner.model, preproc)\n",
    "pred = predictor.predict(data_test.Tweets.tolist())\n",
    "print(classification_report(data_test.Label.tolist(), pred))"
   ]
  },
  {
   "cell_type": "code",
   "execution_count": null,
   "metadata": {
    "id": "IdSNAwWvrUP_"
   },
   "outputs": [],
   "source": []
  }
 ],
 "metadata": {
  "accelerator": "GPU",
  "colab": {
   "collapsed_sections": [],
   "name": "malalayam.ipynb",
   "provenance": []
  },
  "kernelspec": {
   "display_name": "Python 3",
   "language": "python",
   "name": "python3"
  },
  "language_info": {
   "codemirror_mode": {
    "name": "ipython",
    "version": 3
   },
   "file_extension": ".py",
   "mimetype": "text/x-python",
   "name": "python",
   "nbconvert_exporter": "python",
   "pygments_lexer": "ipython3",
   "version": "3.8.10"
  }
 },
 "nbformat": 4,
 "nbformat_minor": 1
}
