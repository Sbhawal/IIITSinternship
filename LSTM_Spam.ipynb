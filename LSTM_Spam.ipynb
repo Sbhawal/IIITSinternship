{
 "cells": [
  {
   "cell_type": "code",
   "execution_count": 1,
   "id": "40549eaa",
   "metadata": {},
   "outputs": [],
   "source": [
    "import numpy as np\n",
    "import pandas as pd\n",
    "import tensorflow as tf\n",
    "\n",
    "import seaborn as sns\n",
    "import matplotlib.pyplot as plt\n",
    "\n",
    "\n",
    "VOC_SIZE = 7881\n",
    "max_length_sequence = 100\n",
    "\n",
    "np.random.seed(1)"
   ]
  },
  {
   "cell_type": "code",
   "execution_count": 2,
   "id": "7e61b491",
   "metadata": {},
   "outputs": [],
   "source": [
    "#importing previously preprocessed and vectorized dataset from preprocessing notebook as pickle file\n",
    "\n",
    "\n",
    "x = np.load('data.npy')\n",
    "word_mat = np.load('word_mat.npy')"
   ]
  },
  {
   "cell_type": "code",
   "execution_count": 3,
   "id": "9e2c6b5d",
   "metadata": {},
   "outputs": [
    {
     "data": {
      "text/plain": [
       "array([[ 0.       ,  0.       ,  0.       , ...,  0.       ,  0.       ,\n",
       "         0.       ],\n",
       "       [-0.031087 ,  0.22155  ,  0.44494  , ..., -0.67097  ,  0.24698  ,\n",
       "        -0.62001  ],\n",
       "       [-0.57833  , -0.0036551,  0.34658  , ...,  0.070204 ,  0.44509  ,\n",
       "         0.24148  ],\n",
       "       ...,\n",
       "       [-0.12201  ,  0.20465  ,  0.53192  , ..., -0.164    , -0.41637  ,\n",
       "         0.66426  ],\n",
       "       [ 0.       ,  0.       ,  0.       , ...,  0.       ,  0.       ,\n",
       "         0.       ],\n",
       "       [ 0.46119  ,  0.3567   ,  0.026078 , ..., -0.0056525,  0.55176  ,\n",
       "         0.77563  ]])"
      ]
     },
     "execution_count": 3,
     "metadata": {},
     "output_type": "execute_result"
    }
   ],
   "source": [
    "word_mat"
   ]
  },
  {
   "cell_type": "code",
   "execution_count": null,
   "id": "cd1f0c2a",
   "metadata": {},
   "outputs": [],
   "source": []
  },
  {
   "cell_type": "code",
   "execution_count": null,
   "id": "bd3a55bb",
   "metadata": {},
   "outputs": [],
   "source": []
  },
  {
   "cell_type": "code",
   "execution_count": null,
   "id": "d6a4c1ed",
   "metadata": {},
   "outputs": [],
   "source": []
  },
  {
   "cell_type": "code",
   "execution_count": 4,
   "id": "97c71569",
   "metadata": {},
   "outputs": [
    {
     "name": "stdout",
     "output_type": "stream",
     "text": [
      "Model: \"sequential\"\n",
      "_________________________________________________________________\n",
      "Layer (type)                 Output Shape              Param #   \n",
      "=================================================================\n",
      "embedding (Embedding)        (None, 100, 100)          788100    \n",
      "_________________________________________________________________\n",
      "lstm (LSTM)                  (None, 10)                4440      \n",
      "_________________________________________________________________\n",
      "dense (Dense)                (None, 1)                 11        \n",
      "=================================================================\n",
      "Total params: 792,551\n",
      "Trainable params: 4,451\n",
      "Non-trainable params: 788,100\n",
      "_________________________________________________________________\n"
     ]
    }
   ],
   "source": [
    "model = tf.keras.models.Sequential()\n",
    "model.add(tf.keras.layers.Embedding(VOC_SIZE, 100, input_length=max_length_sequence, weights = [word_mat], trainable=False))\n",
    "model.add(tf.keras.layers.LSTM(10))\n",
    "model.add(tf.keras.layers.Dense(1, activation = \"sigmoid\"))\n",
    "\n",
    "\n",
    "model.compile(optimizer = \"adam\", loss = \"binary_crossentropy\", metrics =[\"acc\"])\n",
    "model.summary()"
   ]
  },
  {
   "cell_type": "code",
   "execution_count": 5,
   "id": "0ccadac0",
   "metadata": {},
   "outputs": [],
   "source": [
    "# checkpoint_cb = tf.keras.callbacks.ModelCheckpoint(\"model-{epoch:02d}.h5\", save_best_only=True)"
   ]
  },
  {
   "cell_type": "code",
   "execution_count": 6,
   "id": "85b12f42",
   "metadata": {},
   "outputs": [],
   "source": [
    "y = np.load(\"y.npy\")\n",
    "\n",
    "from sklearn.model_selection import train_test_split\n",
    "X_train, X_test, y_train, y_test = train_test_split(x, y, test_size=0.2)"
   ]
  },
  {
   "cell_type": "code",
   "execution_count": 7,
   "id": "d346cf49",
   "metadata": {},
   "outputs": [
    {
     "name": "stdout",
     "output_type": "stream",
     "text": [
      "Epoch 1/5\n",
      "223/223 [==============================] - 6s 14ms/step - loss: 0.3197 - acc: 0.8813 - val_loss: 0.1521 - val_acc: 0.9563\n",
      "Epoch 2/5\n",
      "223/223 [==============================] - 3s 12ms/step - loss: 0.1469 - acc: 0.9537 - val_loss: 0.1191 - val_acc: 0.9596\n",
      "Epoch 3/5\n",
      "223/223 [==============================] - 3s 11ms/step - loss: 0.1236 - acc: 0.9585 - val_loss: 0.1074 - val_acc: 0.9720\n",
      "Epoch 4/5\n",
      "223/223 [==============================] - 3s 12ms/step - loss: 0.0992 - acc: 0.9703 - val_loss: 0.0965 - val_acc: 0.9709\n",
      "Epoch 5/5\n",
      "223/223 [==============================] - 3s 11ms/step - loss: 0.0880 - acc: 0.9750 - val_loss: 0.0856 - val_acc: 0.9787\n"
     ]
    }
   ],
   "source": [
    "history = model.fit(X_train, y_train, epochs = 5, batch_size=16, validation_split=0.2)"
   ]
  },
  {
   "cell_type": "code",
   "execution_count": null,
   "id": "152a35da",
   "metadata": {},
   "outputs": [],
   "source": []
  },
  {
   "cell_type": "code",
   "execution_count": 8,
   "id": "60498c44",
   "metadata": {},
   "outputs": [
    {
     "data": {
      "image/png": "[encoded data removed]",
      "text/plain": [
       "<Figure size 576x360 with 1 Axes>"
      ]
     },
     "metadata": {
      "needs_background": "light"
     },
     "output_type": "display_data"
    }
   ],
   "source": [
    "import pandas as pd\n",
    "pd.DataFrame(history.history).plot(figsize=(8, 5))\n",
    "plt.grid(True)\n",
    "plt.gca().set_ylim(0, 1)\n",
    "plt.show()"
   ]
  },
  {
   "cell_type": "code",
   "execution_count": 9,
   "id": "24f81e35",
   "metadata": {},
   "outputs": [
    {
     "name": "stdout",
     "output_type": "stream",
     "text": [
      "35/35 [==============================] - 0s 6ms/step - loss: 0.0738 - acc: 0.9776\n"
     ]
    },
    {
     "data": {
      "text/plain": [
       "[0.0737992376089096, 0.9775784611701965]"
      ]
     },
     "execution_count": 9,
     "metadata": {},
     "output_type": "execute_result"
    }
   ],
   "source": [
    "model.evaluate(X_test, y_test)"
   ]
  },
  {
   "cell_type": "code",
   "execution_count": 10,
   "id": "8492b20d",
   "metadata": {},
   "outputs": [],
   "source": [
    "pred = model.predict(X_test)>0.5"
   ]
  },
  {
   "cell_type": "code",
   "execution_count": null,
   "id": "5ec5c19d",
   "metadata": {},
   "outputs": [],
   "source": []
  },
  {
   "cell_type": "code",
   "execution_count": 11,
   "id": "a5ca1eff",
   "metadata": {},
   "outputs": [
    {
     "name": "stdout",
     "output_type": "stream",
     "text": [
      "              precision    recall  f1-score   support\n",
      "\n",
      "           0       0.98      0.99      0.99       976\n",
      "           1       0.95      0.86      0.91       139\n",
      "\n",
      "    accuracy                           0.98      1115\n",
      "   macro avg       0.97      0.93      0.95      1115\n",
      "weighted avg       0.98      0.98      0.98      1115\n",
      "\n"
     ]
    }
   ],
   "source": [
    "from sklearn.metrics import classification_report\n",
    "print(classification_report(y_test,pred))"
   ]
  }
 ],
 "metadata": {
  "kernelspec": {
   "display_name": "Python 3",
   "language": "python",
   "name": "python3"
  },
  "language_info": {
   "codemirror_mode": {
    "name": "ipython",
    "version": 3
   },
   "file_extension": ".py",
   "mimetype": "text/x-python",
   "name": "python",
   "nbconvert_exporter": "python",
   "pygments_lexer": "ipython3",
   "version": "3.8.10"
  }
 },
 "nbformat": 4,
 "nbformat_minor": 5
}
