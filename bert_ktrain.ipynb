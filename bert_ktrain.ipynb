{
 "cells": [
  {
   "cell_type": "code",
   "execution_count": 1,
   "metadata": {
    "_cell_guid": "b1076dfc-b9ad-4769-8c92-a6c4dae69d19",
    "_uuid": "8f2839f25d086af736a60e9eeb907d3b93b6e0e5",
    "execution": {
     "iopub.execute_input": "2021-06-23T21:42:47.063834Z",
     "iopub.status.busy": "2021-06-23T21:42:47.063335Z",
     "iopub.status.idle": "2021-06-23T21:43:28.231144Z",
     "shell.execute_reply": "2021-06-23T21:43:28.230055Z",
     "shell.execute_reply.started": "2021-06-23T21:42:47.063755Z"
    }
   },
   "outputs": [
    {
     "name": "stdout",
     "output_type": "stream",
     "text": [
      "Collecting ktrain\n",
      "  Downloading ktrain-0.26.3.tar.gz (25.3 MB)\n",
      "\u001b[K     |████████████████████████████████| 25.3 MB 17.3 MB/s eta 0:00:01   |████████▎                       | 6.5 MB 3.8 MB/s eta 0:00:05     |██████████▏                     | 8.0 MB 3.8 MB/s eta 0:00:05     |███████████▏                    | 8.8 MB 3.8 MB/s eta 0:00:05     |███████████▊                    | 9.2 MB 3.8 MB/s eta 0:00:05     |█████████████▌                  | 10.6 MB 3.8 MB/s eta 0:00:04\n",
      "\u001b[?25hCollecting scikit-learn==0.23.2\n",
      "  Downloading scikit_learn-0.23.2-cp37-cp37m-manylinux1_x86_64.whl (6.8 MB)\n",
      "\u001b[K     |████████████████████████████████| 6.8 MB 19.8 MB/s eta 0:00:01\n",
      "\u001b[?25hRequirement already satisfied: matplotlib>=3.0.0 in /opt/conda/lib/python3.7/site-packages (from ktrain) (3.4.1)\n",
      "Requirement already satisfied: pandas>=1.0.1 in /opt/conda/lib/python3.7/site-packages (from ktrain) (1.1.5)\n",
      "Requirement already satisfied: fastprogress>=0.1.21 in /opt/conda/lib/python3.7/site-packages (from ktrain) (1.0.0)\n",
      "Requirement already satisfied: requests in /opt/conda/lib/python3.7/site-packages (from ktrain) (2.25.1)\n",
      "Requirement already satisfied: joblib in /opt/conda/lib/python3.7/site-packages (from ktrain) (1.0.1)\n",
      "Requirement already satisfied: packaging in /opt/conda/lib/python3.7/site-packages (from ktrain) (20.9)\n",
      "Requirement already satisfied: ipython in /opt/conda/lib/python3.7/site-packages (from ktrain) (7.22.0)\n",
      "Collecting langdetect\n",
      "  Downloading langdetect-1.0.9.tar.gz (981 kB)\n",
      "\u001b[K     |████████████████████████████████| 981 kB 36.8 MB/s eta 0:00:01\n",
      "\u001b[?25hRequirement already satisfied: jieba in /opt/conda/lib/python3.7/site-packages (from ktrain) (0.42.1)\n",
      "Collecting cchardet\n",
      "  Downloading cchardet-2.1.7-cp37-cp37m-manylinux2010_x86_64.whl (263 kB)\n",
      "\u001b[K     |████████████████████████████████| 263 kB 39.9 MB/s eta 0:00:01\n",
      "\u001b[?25hCollecting syntok\n",
      "  Downloading syntok-1.3.1.tar.gz (23 kB)\n",
      "Collecting seqeval==0.0.19\n",
      "  Downloading seqeval-0.0.19.tar.gz (30 kB)\n",
      "Collecting transformers<=4.3.3,>=4.0.0\n",
      "  Downloading transformers-4.3.3-py3-none-any.whl (1.9 MB)\n",
      "\u001b[K     |████████████████████████████████| 1.9 MB 37.7 MB/s eta 0:00:01\n",
      "\u001b[?25hRequirement already satisfied: sentencepiece in /opt/conda/lib/python3.7/site-packages (from ktrain) (0.1.95)\n",
      "Collecting keras_bert>=0.86.0\n",
      "  Downloading keras-bert-0.88.0.tar.gz (26 kB)\n",
      "Requirement already satisfied: networkx>=2.3 in /opt/conda/lib/python3.7/site-packages (from ktrain) (2.5)\n",
      "Collecting whoosh\n",
      "  Downloading Whoosh-2.7.4-py2.py3-none-any.whl (468 kB)\n",
      "\u001b[K     |████████████████████████████████| 468 kB 41.4 MB/s eta 0:00:01\n",
      "\u001b[?25hRequirement already satisfied: numpy>=1.13.3 in /opt/conda/lib/python3.7/site-packages (from scikit-learn==0.23.2->ktrain) (1.19.5)\n",
      "Requirement already satisfied: scipy>=0.19.1 in /opt/conda/lib/python3.7/site-packages (from scikit-learn==0.23.2->ktrain) (1.5.4)\n",
      "Requirement already satisfied: threadpoolctl>=2.0.0 in /opt/conda/lib/python3.7/site-packages (from scikit-learn==0.23.2->ktrain) (2.1.0)\n",
      "Requirement already satisfied: Keras>=2.2.4 in /opt/conda/lib/python3.7/site-packages (from seqeval==0.0.19->ktrain) (2.4.3)\n",
      "Requirement already satisfied: pyyaml in /opt/conda/lib/python3.7/site-packages (from Keras>=2.2.4->seqeval==0.0.19->ktrain) (5.3.1)\n",
      "Requirement already satisfied: h5py in /opt/conda/lib/python3.7/site-packages (from Keras>=2.2.4->seqeval==0.0.19->ktrain) (2.10.0)\n",
      "Collecting keras-transformer>=0.39.0\n",
      "  Downloading keras-transformer-0.39.0.tar.gz (11 kB)\n",
      "Collecting keras-pos-embd>=0.12.0\n",
      "  Downloading keras-pos-embd-0.12.0.tar.gz (6.0 kB)\n",
      "Collecting keras-multi-head>=0.28.0\n",
      "  Downloading keras-multi-head-0.28.0.tar.gz (14 kB)\n",
      "Collecting keras-layer-normalization>=0.15.0\n",
      "  Downloading keras-layer-normalization-0.15.0.tar.gz (4.2 kB)\n",
      "Collecting keras-position-wise-feed-forward>=0.7.0\n",
      "  Downloading keras-position-wise-feed-forward-0.7.0.tar.gz (4.5 kB)\n",
      "Collecting keras-embed-sim>=0.9.0\n",
      "  Downloading keras-embed-sim-0.9.0.tar.gz (4.1 kB)\n",
      "Collecting keras-self-attention>=0.50.0\n",
      "  Downloading keras-self-attention-0.50.0.tar.gz (12 kB)\n",
      "Requirement already satisfied: kiwisolver>=1.0.1 in /opt/conda/lib/python3.7/site-packages (from matplotlib>=3.0.0->ktrain) (1.3.1)\n",
      "Requirement already satisfied: cycler>=0.10 in /opt/conda/lib/python3.7/site-packages (from matplotlib>=3.0.0->ktrain) (0.10.0)\n",
      "Requirement already satisfied: python-dateutil>=2.7 in /opt/conda/lib/python3.7/site-packages (from matplotlib>=3.0.0->ktrain) (2.8.1)\n",
      "Requirement already satisfied: pillow>=6.2.0 in /opt/conda/lib/python3.7/site-packages (from matplotlib>=3.0.0->ktrain) (7.2.0)\n",
      "Requirement already satisfied: pyparsing>=2.2.1 in /opt/conda/lib/python3.7/site-packages (from matplotlib>=3.0.0->ktrain) (2.4.7)\n",
      "Requirement already satisfied: six in /opt/conda/lib/python3.7/site-packages (from cycler>=0.10->matplotlib>=3.0.0->ktrain) (1.15.0)\n",
      "Requirement already satisfied: decorator>=4.3.0 in /opt/conda/lib/python3.7/site-packages (from networkx>=2.3->ktrain) (4.4.2)\n",
      "Requirement already satisfied: pytz>=2017.2 in /opt/conda/lib/python3.7/site-packages (from pandas>=1.0.1->ktrain) (2021.1)\n",
      "Requirement already satisfied: sacremoses in /opt/conda/lib/python3.7/site-packages (from transformers<=4.3.3,>=4.0.0->ktrain) (0.0.45)\n",
      "Requirement already satisfied: tqdm>=4.27 in /opt/conda/lib/python3.7/site-packages (from transformers<=4.3.3,>=4.0.0->ktrain) (4.59.0)\n",
      "Requirement already satisfied: tokenizers<0.11,>=0.10.1 in /opt/conda/lib/python3.7/site-packages (from transformers<=4.3.3,>=4.0.0->ktrain) (0.10.2)\n",
      "Requirement already satisfied: importlib-metadata in /opt/conda/lib/python3.7/site-packages (from transformers<=4.3.3,>=4.0.0->ktrain) (3.4.0)\n",
      "Requirement already satisfied: regex!=2019.12.17 in /opt/conda/lib/python3.7/site-packages (from transformers<=4.3.3,>=4.0.0->ktrain) (2021.3.17)\n",
      "Requirement already satisfied: filelock in /opt/conda/lib/python3.7/site-packages (from transformers<=4.3.3,>=4.0.0->ktrain) (3.0.12)\n",
      "Requirement already satisfied: typing-extensions>=3.6.4 in /opt/conda/lib/python3.7/site-packages (from importlib-metadata->transformers<=4.3.3,>=4.0.0->ktrain) (3.7.4.3)\n",
      "Requirement already satisfied: zipp>=0.5 in /opt/conda/lib/python3.7/site-packages (from importlib-metadata->transformers<=4.3.3,>=4.0.0->ktrain) (3.4.1)\n",
      "Requirement already satisfied: pickleshare in /opt/conda/lib/python3.7/site-packages (from ipython->ktrain) (0.7.5)\n",
      "Requirement already satisfied: traitlets>=4.2 in /opt/conda/lib/python3.7/site-packages (from ipython->ktrain) (5.0.5)\n",
      "Requirement already satisfied: setuptools>=18.5 in /opt/conda/lib/python3.7/site-packages (from ipython->ktrain) (49.6.0.post20210108)\n",
      "Requirement already satisfied: pygments in /opt/conda/lib/python3.7/site-packages (from ipython->ktrain) (2.8.1)\n",
      "Requirement already satisfied: backcall in /opt/conda/lib/python3.7/site-packages (from ipython->ktrain) (0.2.0)\n",
      "Requirement already satisfied: jedi>=0.16 in /opt/conda/lib/python3.7/site-packages (from ipython->ktrain) (0.18.0)\n",
      "Requirement already satisfied: prompt-toolkit!=3.0.0,!=3.0.1,<3.1.0,>=2.0.0 in /opt/conda/lib/python3.7/site-packages (from ipython->ktrain) (3.0.18)\n",
      "Requirement already satisfied: pexpect>4.3 in /opt/conda/lib/python3.7/site-packages (from ipython->ktrain) (4.8.0)\n",
      "Requirement already satisfied: parso<0.9.0,>=0.8.0 in /opt/conda/lib/python3.7/site-packages (from jedi>=0.16->ipython->ktrain) (0.8.1)\n",
      "Requirement already satisfied: ptyprocess>=0.5 in /opt/conda/lib/python3.7/site-packages (from pexpect>4.3->ipython->ktrain) (0.7.0)\n",
      "Requirement already satisfied: wcwidth in /opt/conda/lib/python3.7/site-packages (from prompt-toolkit!=3.0.0,!=3.0.1,<3.1.0,>=2.0.0->ipython->ktrain) (0.2.5)\n",
      "Requirement already satisfied: ipython-genutils in /opt/conda/lib/python3.7/site-packages (from traitlets>=4.2->ipython->ktrain) (0.2.0)\n",
      "Requirement already satisfied: idna<3,>=2.5 in /opt/conda/lib/python3.7/site-packages (from requests->ktrain) (2.10)\n",
      "Requirement already satisfied: certifi>=2017.4.17 in /opt/conda/lib/python3.7/site-packages (from requests->ktrain) (2020.12.5)\n",
      "Requirement already satisfied: chardet<5,>=3.0.2 in /opt/conda/lib/python3.7/site-packages (from requests->ktrain) (4.0.0)\n",
      "Requirement already satisfied: urllib3<1.27,>=1.21.1 in /opt/conda/lib/python3.7/site-packages (from requests->ktrain) (1.26.4)\n",
      "Requirement already satisfied: click in /opt/conda/lib/python3.7/site-packages (from sacremoses->transformers<=4.3.3,>=4.0.0->ktrain) (7.1.2)\n",
      "Building wheels for collected packages: ktrain, seqeval, keras-bert, keras-transformer, keras-embed-sim, keras-layer-normalization, keras-multi-head, keras-pos-embd, keras-position-wise-feed-forward, keras-self-attention, langdetect, syntok\n",
      "  Building wheel for ktrain (setup.py) ... \u001b[?25ldone\n",
      "\u001b[?25h  Created wheel for ktrain: filename=ktrain-0.26.3-py3-none-any.whl size=25282379 sha256=df7f4057b2956792eee4c332f1b279536c61a4159b687eb54d93699dc260804d\n",
      "  Stored in directory: /root/.cache/pip/wheels/36/1f/ca/e6c115a253e484e7c877105d2802310b8ec4cb8c9fd51c5d57\n",
      "  Building wheel for seqeval (setup.py) ... \u001b[?25ldone\n",
      "\u001b[?25h  Created wheel for seqeval: filename=seqeval-0.0.19-py3-none-any.whl size=9918 sha256=c48c6a7400c394a46c4dff6cdfb85c1757b134d6ef25524fc0b419e141339368\n",
      "  Stored in directory: /root/.cache/pip/wheels/f5/ac/f1/4e13d7aff05c722d142b7d20a88ad63f9aab11b895411241a4\n",
      "  Building wheel for keras-bert (setup.py) ... \u001b[?25ldone\n",
      "\u001b[?25h  Created wheel for keras-bert: filename=keras_bert-0.88.0-py3-none-any.whl size=34205 sha256=f38a202e5af069288c90e743dd14f49824c6aad8f3a098e7528559d8e7b14bf4\n",
      "  Stored in directory: /root/.cache/pip/wheels/a2/90/cd/c038f2366929a3a5e3414a303b673e10235e802d871d29a835\n",
      "  Building wheel for keras-transformer (setup.py) ... \u001b[?25ldone\n",
      "\u001b[?25h  Created wheel for keras-transformer: filename=keras_transformer-0.39.0-py3-none-any.whl size=12840 sha256=31d9c935cbcfefac27126abec028ae239e3cbebc36d3fa42650cb54975c50eb3\n",
      "  Stored in directory: /root/.cache/pip/wheels/bc/01/e0/5a1a14bed6726f2ed73f7917d2d2c2d4081d2c88426dea07ce\n",
      "  Building wheel for keras-embed-sim (setup.py) ... \u001b[?25ldone\n",
      "\u001b[?25h  Created wheel for keras-embed-sim: filename=keras_embed_sim-0.9.0-py3-none-any.whl size=4506 sha256=bdfd33f2a77725c146031c5abc49b4ee01fdba03775e17676a4faa36138bddc0\n",
      "  Stored in directory: /root/.cache/pip/wheels/a8/1e/d2/9bc15513dd2f8b9de3e628b3aa9d2de49e721deef6bbd1497e\n",
      "  Building wheel for keras-layer-normalization (setup.py) ... \u001b[?25ldone\n",
      "\u001b[?25h  Created wheel for keras-layer-normalization: filename=keras_layer_normalization-0.15.0-py3-none-any.whl size=5224 sha256=3d819e8c69dee7f0561c5ba8aa05c485f7cdd05c2a9536aeed5b4cc2be032f16\n",
      "  Stored in directory: /root/.cache/pip/wheels/4d/be/fe/55422f77ac11fe6ddcb471198038de8a26b5a4dd1557883c1e\n",
      "  Building wheel for keras-multi-head (setup.py) ... \u001b[?25ldone\n",
      "\u001b[?25h  Created wheel for keras-multi-head: filename=keras_multi_head-0.28.0-py3-none-any.whl size=15560 sha256=af641e87ac50c3d9045be7c21b79060be99da5a9dfe5330bfa536f941b332357\n",
      "  Stored in directory: /root/.cache/pip/wheels/79/4a/ea/9503ab5a02201dfb8635ba2cc8f30844661623c684a5b44472\n",
      "  Building wheel for keras-pos-embd (setup.py) ... \u001b[?25ldone\n",
      "\u001b[?25h  Created wheel for keras-pos-embd: filename=keras_pos_embd-0.12.0-py3-none-any.whl size=7470 sha256=d6e58b9631f21dbb0d0347a53194011bb2b70e5d8d7caeb46616d66573dffc84\n",
      "  Stored in directory: /root/.cache/pip/wheels/77/99/fd/dd98f4876c3ebbef7aab0dbfbd37bca41d7db37d3a28b2cb09\n",
      "  Building wheel for keras-position-wise-feed-forward (setup.py) ... \u001b[?25ldone\n",
      "\u001b[?25h  Created wheel for keras-position-wise-feed-forward: filename=keras_position_wise_feed_forward-0.7.0-py3-none-any.whl size=5541 sha256=e001e99467d472660170cbaef3ad8540f7d9ae1b42f35cf840ced7b815a3af0c\n",
      "  Stored in directory: /root/.cache/pip/wheels/2d/12/02/1ad455c4f181cda1a4e60c5445855853d5c2ea91f942586a04\n",
      "  Building wheel for keras-self-attention (setup.py) ... \u001b[?25ldone\n",
      "\u001b[?25h  Created wheel for keras-self-attention: filename=keras_self_attention-0.50.0-py3-none-any.whl size=19415 sha256=93c593e7c344c6e4a2c7322971b7365ba96fc03be142db32b9d98f9465831dfe\n",
      "  Stored in directory: /root/.cache/pip/wheels/92/7a/a3/231bef5803298e7ec1815215bc0613239cb1e9c03c57b13c14\n",
      "  Building wheel for langdetect (setup.py) ... \u001b[?25ldone\n",
      "\u001b[?25h  Created wheel for langdetect: filename=langdetect-1.0.9-py3-none-any.whl size=993221 sha256=a54411d8fc61f4d9ab5647c61457b0317041c8527af58f396d6948e34e05536e\n",
      "  Stored in directory: /root/.cache/pip/wheels/c5/96/8a/f90c59ed25d75e50a8c10a1b1c2d4c402e4dacfa87f3aff36a\n",
      "  Building wheel for syntok (setup.py) ... \u001b[?25ldone\n",
      "\u001b[?25h  Created wheel for syntok: filename=syntok-1.3.1-py3-none-any.whl size=20917 sha256=52cfe6b0071037fa6a2d721bc9b690856a8b2f85680e0789cdd7d123f48f65ea\n",
      "  Stored in directory: /root/.cache/pip/wheels/5e/c2/33/e5d7d8f2f8b0c391d76bf82b844c3151bf23a84d75d02b185f\n",
      "Successfully built ktrain seqeval keras-bert keras-transformer keras-embed-sim keras-layer-normalization keras-multi-head keras-pos-embd keras-position-wise-feed-forward keras-self-attention langdetect syntok\n",
      "Installing collected packages: keras-self-attention, keras-position-wise-feed-forward, keras-pos-embd, keras-multi-head, keras-layer-normalization, keras-embed-sim, keras-transformer, whoosh, transformers, syntok, seqeval, scikit-learn, langdetect, keras-bert, cchardet, ktrain\n",
      "  Attempting uninstall: transformers\n",
      "    Found existing installation: transformers 4.5.1\n",
      "    Uninstalling transformers-4.5.1:\n",
      "      Successfully uninstalled transformers-4.5.1\n",
      "  Attempting uninstall: scikit-learn\n",
      "    Found existing installation: scikit-learn 0.24.1\n",
      "    Uninstalling scikit-learn-0.24.1:\n",
      "      Successfully uninstalled scikit-learn-0.24.1\n",
      "\u001b[31mERROR: pip's dependency resolver does not currently take into account all the packages that are installed. This behaviour is the source of the following dependency conflicts.\n",
      "pyldavis 3.3.1 requires numpy>=1.20.0, but you have numpy 1.19.5 which is incompatible.\n",
      "pyldavis 3.3.1 requires pandas>=1.2.0, but you have pandas 1.1.5 which is incompatible.\n",
      "pdpbox 0.2.1 requires matplotlib==3.1.1, but you have matplotlib 3.4.1 which is incompatible.\n",
      "imbalanced-learn 0.8.0 requires scikit-learn>=0.24, but you have scikit-learn 0.23.2 which is incompatible.\u001b[0m\n",
      "Successfully installed cchardet-2.1.7 keras-bert-0.88.0 keras-embed-sim-0.9.0 keras-layer-normalization-0.15.0 keras-multi-head-0.28.0 keras-pos-embd-0.12.0 keras-position-wise-feed-forward-0.7.0 keras-self-attention-0.50.0 keras-transformer-0.39.0 ktrain-0.26.3 langdetect-1.0.9 scikit-learn-0.23.2 seqeval-0.0.19 syntok-1.3.1 transformers-4.3.3 whoosh-2.7.4\n"
     ]
    }
   ],
   "source": [
    "!pip install ktrain"
   ]
  },
  {
   "cell_type": "code",
   "execution_count": 2,
   "metadata": {
    "execution": {
     "iopub.execute_input": "2021-06-23T21:43:28.234926Z",
     "iopub.status.busy": "2021-06-23T21:43:28.234665Z",
     "iopub.status.idle": "2021-06-23T21:43:37.699582Z",
     "shell.execute_reply": "2021-06-23T21:43:37.698735Z",
     "shell.execute_reply.started": "2021-06-23T21:43:28.234896Z"
    }
   },
   "outputs": [],
   "source": [
    "import tensorflow as tf\n",
    "import pandas as pd\n",
    "import numpy as np\n",
    "import ktrain\n",
    "from ktrain import text\n",
    "import tensorflow as tf"
   ]
  },
  {
   "cell_type": "code",
   "execution_count": 3,
   "metadata": {
    "execution": {
     "iopub.execute_input": "2021-06-23T21:43:37.701678Z",
     "iopub.status.busy": "2021-06-23T21:43:37.701327Z",
     "iopub.status.idle": "2021-06-23T21:43:43.261423Z",
     "shell.execute_reply": "2021-06-23T21:43:43.259537Z",
     "shell.execute_reply.started": "2021-06-23T21:43:37.701618Z"
    }
   },
   "outputs": [
    {
     "name": "stdout",
     "output_type": "stream",
     "text": [
      "1 Physical GPUs, 1 Logical GPUs\n",
      "Version:  2.4.1\n",
      "Eager mode:  True\n",
      "GPU is available\n"
     ]
    }
   ],
   "source": [
    "gpus = tf.config.experimental.list_physical_devices('GPU')\n",
    "if gpus:\n",
    "  try:\n",
    "    # Currently, memory growth needs to be the same across GPUs\n",
    "    for gpu in gpus:\n",
    "      tf.config.experimental.set_memory_growth(gpu, True)\n",
    "    logical_gpus = tf.config.experimental.list_logical_devices('GPU')\n",
    "    print(len(gpus), \"Physical GPUs,\", len(logical_gpus), \"Logical GPUs\")\n",
    "  except RuntimeError as e:\n",
    "    # Memory growth must be set before GPUs have been initialized\n",
    "    print(e)\n",
    "\n",
    "print(\"Version: \", tf.__version__)\n",
    "print(\"Eager mode: \", tf.executing_eagerly())\n",
    "\n",
    "print(\"GPU is\", \"available\" if tf.config.list_physical_devices('GPU') else \"NOT AVAILABLE\")"
   ]
  },
  {
   "cell_type": "code",
   "execution_count": 4,
   "metadata": {
    "execution": {
     "iopub.execute_input": "2021-06-23T21:43:43.263904Z",
     "iopub.status.busy": "2021-06-23T21:43:43.263323Z",
     "iopub.status.idle": "2021-06-23T21:43:43.406390Z",
     "shell.execute_reply": "2021-06-23T21:43:43.405507Z",
     "shell.execute_reply.started": "2021-06-23T21:43:43.263862Z"
    }
   },
   "outputs": [],
   "source": [
    "data_train = pd.read_csv('../input/tanglish/tamil_sentiment_full_train.tsv',sep=\"\\t\")\n",
    "data_test = pd.read_csv('../input/tanglish/tamil_sentiment_full_dev.tsv',sep=\"\\t\")"
   ]
  },
  {
   "cell_type": "code",
   "execution_count": 5,
   "metadata": {
    "execution": {
     "iopub.execute_input": "2021-06-23T21:43:43.408042Z",
     "iopub.status.busy": "2021-06-23T21:43:43.407701Z",
     "iopub.status.idle": "2021-06-23T21:43:43.416658Z",
     "shell.execute_reply": "2021-06-23T21:43:43.413356Z",
     "shell.execute_reply.started": "2021-06-23T21:43:43.408007Z"
    }
   },
   "outputs": [
    {
     "name": "stdout",
     "output_type": "stream",
     "text": [
      "Size of train dataset:  (35656, 2)\n",
      "Size of test dataset:  (3962, 2)\n"
     ]
    }
   ],
   "source": [
    "print(\"Size of train dataset: \",data_train.shape)\n",
    "print(\"Size of test dataset: \",data_test.shape)"
   ]
  },
  {
   "cell_type": "code",
   "execution_count": 6,
   "metadata": {
    "execution": {
     "iopub.execute_input": "2021-06-23T21:43:43.418757Z",
     "iopub.status.busy": "2021-06-23T21:43:43.418104Z",
     "iopub.status.idle": "2021-06-23T21:44:16.782983Z",
     "shell.execute_reply": "2021-06-23T21:44:16.782099Z",
     "shell.execute_reply.started": "2021-06-23T21:43:43.418718Z"
    }
   },
   "outputs": [
    {
     "name": "stdout",
     "output_type": "stream",
     "text": [
      "['Mixed_feelings', 'Negative', 'Positive', 'Positive ', 'not-Tamil', 'unknown_state']\n",
      "   Mixed_feelings  Negative  Positive  Positive   not-Tamil  unknown_state\n",
      "0             0.0       0.0       0.0        0.0        0.0            1.0\n",
      "1             0.0       0.0       1.0        0.0        0.0            0.0\n",
      "2             0.0       0.0       1.0        0.0        0.0            0.0\n",
      "3             0.0       0.0       1.0        0.0        0.0            0.0\n",
      "4             0.0       1.0       0.0        0.0        0.0            0.0\n",
      "['Mixed_feelings', 'Negative', 'Positive', 'Positive ', 'not-Tamil', 'unknown_state']\n",
      "   Mixed_feelings  Negative  Positive  Positive   not-Tamil  unknown_state\n",
      "0             0.0       0.0       0.0        0.0        0.0            1.0\n",
      "1             0.0       0.0       1.0        0.0        0.0            0.0\n",
      "2             0.0       0.0       1.0        0.0        0.0            0.0\n",
      "3             0.0       0.0       1.0        0.0        0.0            0.0\n",
      "4             0.0       0.0       0.0        0.0        0.0            1.0\n",
      "downloading pretrained BERT model (multi_cased_L-12_H-768_A-12.zip)...\n",
      "[██████████████████████████████████████████████████]\n",
      "extracting pretrained BERT model...\n",
      "done.\n",
      "\n",
      "cleanup downloaded zip...\n",
      "done.\n",
      "\n",
      "preprocessing train...\n",
      "language: ta\n"
     ]
    },
    {
     "data": {
      "text/html": [
       "done."
      ],
      "text/plain": [
       "<IPython.core.display.HTML object>"
      ]
     },
     "metadata": {},
     "output_type": "display_data"
    },
    {
     "name": "stdout",
     "output_type": "stream",
     "text": [
      "Is Multi-Label? False\n",
      "preprocessing test...\n",
      "language: ta\n"
     ]
    },
    {
     "data": {
      "text/html": [
       "done."
      ],
      "text/plain": [
       "<IPython.core.display.HTML object>"
      ]
     },
     "metadata": {},
     "output_type": "display_data"
    }
   ],
   "source": [
    "(X_train, y_train), (X_test, y_test), preproc = text.texts_from_df(train_df=data_train,\n",
    "                                                                   text_column = 'text',\n",
    "                                                                   label_columns = 'category',\n",
    "                                                                   val_df = data_test,\n",
    "                                                                   maxlen = 120,\n",
    "                                                                   preprocess_mode = 'bert')"
   ]
  },
  {
   "cell_type": "code",
   "execution_count": 7,
   "metadata": {
    "execution": {
     "iopub.execute_input": "2021-06-23T21:44:16.784462Z",
     "iopub.status.busy": "2021-06-23T21:44:16.784160Z",
     "iopub.status.idle": "2021-06-23T21:44:23.294937Z",
     "shell.execute_reply": "2021-06-23T21:44:23.294016Z",
     "shell.execute_reply.started": "2021-06-23T21:44:16.784432Z"
    }
   },
   "outputs": [
    {
     "name": "stdout",
     "output_type": "stream",
     "text": [
      "Is Multi-Label? False\n",
      "maxlen is 120\n",
      "done.\n"
     ]
    }
   ],
   "source": [
    "model = text.text_classifier(name = 'bert',\n",
    "                             train_data = (X_train, y_train),\n",
    "                             preproc = preproc)"
   ]
  },
  {
   "cell_type": "code",
   "execution_count": 23,
   "metadata": {
    "execution": {
     "iopub.execute_input": "2021-06-23T21:50:24.085924Z",
     "iopub.status.busy": "2021-06-23T21:50:24.085551Z",
     "iopub.status.idle": "2021-06-23T21:50:39.208198Z",
     "shell.execute_reply": "2021-06-23T21:50:39.206691Z",
     "shell.execute_reply.started": "2021-06-23T21:50:24.085893Z"
    }
   },
   "outputs": [],
   "source": [
    "learner = ktrain.get_learner(model=model, train_data=(X_train, y_train),\n",
    "                   val_data = (X_test, y_test),\n",
    "                   batch_size = 55)"
   ]
  },
  {
   "cell_type": "code",
   "execution_count": 24,
   "metadata": {
    "execution": {
     "iopub.execute_input": "2021-06-23T21:50:39.210784Z",
     "iopub.status.busy": "2021-06-23T21:50:39.210185Z",
     "iopub.status.idle": "2021-06-23T22:12:59.528930Z",
     "shell.execute_reply": "2021-06-23T22:12:59.527128Z",
     "shell.execute_reply.started": "2021-06-23T21:50:39.210743Z"
    }
   },
   "outputs": [
    {
     "name": "stdout",
     "output_type": "stream",
     "text": [
      "\n",
      "\n",
      "begin training using onecycle policy with max lr of 2e-05...\n",
      "649/649 [==============================] - 1340s 2s/step - loss: 1.0874 - accuracy: 0.5911 - val_loss: 0.9696 - val_accuracy: 0.6335\n"
     ]
    },
    {
     "ename": "TypeError",
     "evalue": "save() missing 1 required positional argument: 'fpath'",
     "output_type": "error",
     "traceback": [
      "\u001b[0;31m---------------------------------------------------------------------------\u001b[0m",
      "\u001b[0;31mTypeError\u001b[0m                                 Traceback (most recent call last)",
      "\u001b[0;32m<ipython-input-24-6c995dff756a>\u001b[0m in \u001b[0;36m<module>\u001b[0;34m\u001b[0m\n\u001b[1;32m      2\u001b[0m \u001b[0;34m\u001b[0m\u001b[0m\n\u001b[1;32m      3\u001b[0m \u001b[0mpredictor\u001b[0m \u001b[0;34m=\u001b[0m \u001b[0mktrain\u001b[0m\u001b[0;34m.\u001b[0m\u001b[0mget_predictor\u001b[0m\u001b[0;34m(\u001b[0m\u001b[0mlearner\u001b[0m\u001b[0;34m.\u001b[0m\u001b[0mmodel\u001b[0m\u001b[0;34m,\u001b[0m \u001b[0mpreproc\u001b[0m\u001b[0;34m)\u001b[0m\u001b[0;34m\u001b[0m\u001b[0;34m\u001b[0m\u001b[0m\n\u001b[0;32m----> 4\u001b[0;31m \u001b[0mpredictor\u001b[0m\u001b[0;34m.\u001b[0m\u001b[0msave\u001b[0m\u001b[0;34m(\u001b[0m\u001b[0;34m)\u001b[0m\u001b[0;34m\u001b[0m\u001b[0;34m\u001b[0m\u001b[0m\n\u001b[0m",
      "\u001b[0;31mTypeError\u001b[0m: save() missing 1 required positional argument: 'fpath'"
     ]
    }
   ],
   "source": [
    "learner.fit_onecycle(lr = 2e-5, epochs = 1)\n",
    "\n",
    "predictor = ktrain.get_predictor(learner.model, preproc)\n",
    "predictor.save(\"./\")"
   ]
  },
  {
   "cell_type": "code",
   "execution_count": 25,
   "metadata": {
    "execution": {
     "iopub.execute_input": "2021-06-23T22:14:46.119758Z",
     "iopub.status.busy": "2021-06-23T22:14:46.119311Z",
     "iopub.status.idle": "2021-06-23T22:14:53.681998Z",
     "shell.execute_reply": "2021-06-23T22:14:53.681079Z",
     "shell.execute_reply.started": "2021-06-23T22:14:46.119719Z"
    }
   },
   "outputs": [],
   "source": [
    "predictor.save(\"./\")"
   ]
  },
  {
   "cell_type": "code",
   "execution_count": null,
   "metadata": {},
   "outputs": [],
   "source": []
  },
  {
   "cell_type": "code",
   "execution_count": 32,
   "metadata": {
    "execution": {
     "iopub.execute_input": "2021-06-23T22:17:50.755660Z",
     "iopub.status.busy": "2021-06-23T22:17:50.755309Z",
     "iopub.status.idle": "2021-06-23T22:18:32.271695Z",
     "shell.execute_reply": "2021-06-23T22:18:32.270855Z",
     "shell.execute_reply.started": "2021-06-23T22:17:50.755611Z"
    }
   },
   "outputs": [],
   "source": [
    "pred = predictor.predict(data_test.text.tolist())"
   ]
  },
  {
   "cell_type": "code",
   "execution_count": 37,
   "metadata": {
    "execution": {
     "iopub.execute_input": "2021-06-23T22:21:00.581439Z",
     "iopub.status.busy": "2021-06-23T22:21:00.581060Z",
     "iopub.status.idle": "2021-06-23T22:21:00.627732Z",
     "shell.execute_reply": "2021-06-23T22:21:00.626847Z",
     "shell.execute_reply.started": "2021-06-23T22:21:00.581407Z"
    }
   },
   "outputs": [
    {
     "name": "stdout",
     "output_type": "stream",
     "text": [
      "                precision    recall  f1-score   support\n",
      "\n",
      "Mixed_feelings       0.42      0.07      0.12       438\n",
      "      Negative       0.46      0.25      0.32       480\n",
      "      Positive       0.67      0.91      0.77      2257\n",
      "     not-Tamil       0.81      0.48      0.60       176\n",
      " unknown_state       0.49      0.35      0.40       611\n",
      "\n",
      "      accuracy                           0.63      3962\n",
      "     macro avg       0.57      0.41      0.44      3962\n",
      "  weighted avg       0.59      0.63      0.58      3962\n",
      "\n"
     ]
    }
   ],
   "source": [
    "from sklearn.metrics import classification_report\n",
    "print(classification_report(data_test.category.tolist(), pred))"
   ]
  },
  {
   "cell_type": "code",
   "execution_count": null,
   "metadata": {},
   "outputs": [],
   "source": []
  },
  {
   "cell_type": "code",
   "execution_count": 38,
   "metadata": {
    "execution": {
     "iopub.execute_input": "2021-06-23T22:22:16.978156Z",
     "iopub.status.busy": "2021-06-23T22:22:16.977805Z",
     "iopub.status.idle": "2021-06-23T23:06:37.851610Z",
     "shell.execute_reply": "2021-06-23T23:06:37.850826Z",
     "shell.execute_reply.started": "2021-06-23T22:22:16.978127Z"
    }
   },
   "outputs": [
    {
     "name": "stdout",
     "output_type": "stream",
     "text": [
      "\n",
      "\n",
      "begin training using onecycle policy with max lr of 1e-05...\n",
      "Epoch 1/2\n",
      "649/649 [==============================] - 1333s 2s/step - loss: 0.9329 - accuracy: 0.6395 - val_loss: 0.9532 - val_accuracy: 0.6378\n",
      "Epoch 2/2\n",
      "649/649 [==============================] - 1328s 2s/step - loss: 0.8759 - accuracy: 0.6612 - val_loss: 0.9351 - val_accuracy: 0.6421\n"
     ]
    },
    {
     "data": {
      "text/plain": [
       "<tensorflow.python.keras.callbacks.History at 0x7f8110711290>"
      ]
     },
     "execution_count": 38,
     "metadata": {},
     "output_type": "execute_result"
    }
   ],
   "source": [
    "learner.fit_onecycle(lr = 1e-5, epochs = 2)"
   ]
  },
  {
   "cell_type": "code",
   "execution_count": 39,
   "metadata": {
    "execution": {
     "iopub.execute_input": "2021-06-23T23:06:37.853438Z",
     "iopub.status.busy": "2021-06-23T23:06:37.853102Z",
     "iopub.status.idle": "2021-06-23T23:07:15.408027Z",
     "shell.execute_reply": "2021-06-23T23:07:15.407173Z",
     "shell.execute_reply.started": "2021-06-23T23:06:37.853402Z"
    }
   },
   "outputs": [
    {
     "name": "stdout",
     "output_type": "stream",
     "text": [
      "                precision    recall  f1-score   support\n",
      "\n",
      "Mixed_feelings       0.39      0.16      0.23       438\n",
      "      Negative       0.45      0.36      0.40       480\n",
      "      Positive       0.71      0.88      0.78      2257\n",
      "     not-Tamil       0.70      0.55      0.62       176\n",
      " unknown_state       0.47      0.38      0.42       611\n",
      "\n",
      "      accuracy                           0.64      3962\n",
      "     macro avg       0.55      0.46      0.49      3962\n",
      "  weighted avg       0.61      0.64      0.61      3962\n",
      "\n"
     ]
    }
   ],
   "source": [
    "predictor = ktrain.get_predictor(learner.model, preproc)\n",
    "pred = predictor.predict(data_test.text.tolist())\n",
    "print(classification_report(data_test.category.tolist(), pred))"
   ]
  },
  {
   "cell_type": "code",
   "execution_count": 40,
   "metadata": {
    "execution": {
     "iopub.execute_input": "2021-06-23T23:08:36.874717Z",
     "iopub.status.busy": "2021-06-23T23:08:36.874367Z",
     "iopub.status.idle": "2021-06-23T23:08:45.614601Z",
     "shell.execute_reply": "2021-06-23T23:08:45.613731Z",
     "shell.execute_reply.started": "2021-06-23T23:08:36.874683Z"
    }
   },
   "outputs": [],
   "source": [
    "predictor = ktrain.get_predictor(learner.model, preproc)\n",
    "predictor.save(\"./\")"
   ]
  },
  {
   "cell_type": "code",
   "execution_count": 41,
   "metadata": {
    "execution": {
     "iopub.execute_input": "2021-06-23T23:10:01.016235Z",
     "iopub.status.busy": "2021-06-23T23:10:01.015901Z",
     "iopub.status.idle": "2021-06-23T23:32:25.972870Z",
     "shell.execute_reply": "2021-06-23T23:32:25.972073Z",
     "shell.execute_reply.started": "2021-06-23T23:10:01.016207Z"
    }
   },
   "outputs": [
    {
     "name": "stdout",
     "output_type": "stream",
     "text": [
      "\n",
      "\n",
      "begin training using onecycle policy with max lr of 1e-05...\n",
      "649/649 [==============================] - 1345s 2s/step - loss: 0.8216 - accuracy: 0.6847 - val_loss: 0.9473 - val_accuracy: 0.6441\n"
     ]
    },
    {
     "data": {
      "text/plain": [
       "<tensorflow.python.keras.callbacks.History at 0x7f8110779890>"
      ]
     },
     "execution_count": 41,
     "metadata": {},
     "output_type": "execute_result"
    }
   ],
   "source": [
    "learner.fit_onecycle(lr = 1e-5, epochs = 1)"
   ]
  },
  {
   "cell_type": "code",
   "execution_count": 42,
   "metadata": {
    "execution": {
     "iopub.execute_input": "2021-06-23T23:40:46.384497Z",
     "iopub.status.busy": "2021-06-23T23:40:46.384143Z",
     "iopub.status.idle": "2021-06-23T23:41:24.743331Z",
     "shell.execute_reply": "2021-06-23T23:41:24.742360Z",
     "shell.execute_reply.started": "2021-06-23T23:40:46.384460Z"
    }
   },
   "outputs": [
    {
     "name": "stdout",
     "output_type": "stream",
     "text": [
      "                precision    recall  f1-score   support\n",
      "\n",
      "Mixed_feelings       0.42      0.16      0.24       438\n",
      "      Negative       0.44      0.42      0.43       480\n",
      "      Positive       0.73      0.85      0.78      2257\n",
      "     not-Tamil       0.67      0.59      0.62       176\n",
      " unknown_state       0.48      0.41      0.44       611\n",
      "\n",
      "      accuracy                           0.64      3962\n",
      "     macro avg       0.55      0.49      0.50      3962\n",
      "  weighted avg       0.62      0.64      0.62      3962\n",
      "\n"
     ]
    }
   ],
   "source": [
    "predictor = ktrain.get_predictor(learner.model, preproc)\n",
    "pred = predictor.predict(data_test.text.tolist())\n",
    "print(classification_report(data_test.category.tolist(), pred))"
   ]
  },
  {
   "cell_type": "code",
   "execution_count": null,
   "metadata": {
    "execution": {
     "iopub.execute_input": "2021-06-23T23:43:30.252665Z",
     "iopub.status.busy": "2021-06-23T23:43:30.252310Z"
    }
   },
   "outputs": [
    {
     "name": "stdout",
     "output_type": "stream",
     "text": [
      "\n",
      "\n",
      "begin training using onecycle policy with max lr of 1e-05...\n",
      "Epoch 1/5\n",
      "  9/649 [..............................] - ETA: 21:10 - loss: 0.7231 - accuracy: 0.7313"
     ]
    }
   ],
   "source": [
    "learner.fit_onecycle(lr = 1e-5, epochs = 5)"
   ]
  },
  {
   "cell_type": "code",
   "execution_count": null,
   "metadata": {},
   "outputs": [],
   "source": []
  },
  {
   "cell_type": "code",
   "execution_count": null,
   "metadata": {},
   "outputs": [],
   "source": []
  },
  {
   "cell_type": "code",
   "execution_count": null,
   "metadata": {},
   "outputs": [],
   "source": []
  },
  {
   "cell_type": "code",
   "execution_count": null,
   "metadata": {},
   "outputs": [],
   "source": []
  },
  {
   "cell_type": "code",
   "execution_count": null,
   "metadata": {},
   "outputs": [],
   "source": []
  },
  {
   "cell_type": "code",
   "execution_count": null,
   "metadata": {},
   "outputs": [],
   "source": []
  },
  {
   "cell_type": "code",
   "execution_count": null,
   "metadata": {},
   "outputs": [],
   "source": []
  }
 ],
 "metadata": {
  "kernelspec": {
   "display_name": "Python 3",
   "language": "python",
   "name": "python3"
  },
  "language_info": {
   "codemirror_mode": {
    "name": "ipython",
    "version": 3
   },
   "file_extension": ".py",
   "mimetype": "text/x-python",
   "name": "python",
   "nbconvert_exporter": "python",
   "pygments_lexer": "ipython3",
   "version": "3.8.10"
  }
 },
 "nbformat": 4,
 "nbformat_minor": 4
}
