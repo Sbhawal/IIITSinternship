{
 "cells": [
  {
   "cell_type": "code",
   "execution_count": 1,
   "id": "40549eaa",
   "metadata": {},
   "outputs": [],
   "source": [
    "import numpy as np\n",
    "import pandas as pd\n",
    "\n",
    "\n",
    "import tensorflow as tf\n",
    "import seaborn as sns\n",
    "import matplotlib.pyplot as plt\n",
    "\n",
    "\n",
    "VOC_SIZE = 7881\n",
    "max_length_sequence = 100\n",
    "\n",
    "np.random.seed(1)"
   ]
  },
  {
   "cell_type": "code",
   "execution_count": 2,
   "id": "7e61b491",
   "metadata": {},
   "outputs": [],
   "source": [
    "#importing previously preprocessed and vectorized dataset from preprocessing notebook as pickle file\n",
    "\n",
    "\n",
    "x = np.load('data.npy')\n",
    "word_mat = np.load('word_mat.npy')"
   ]
  },
  {
   "cell_type": "code",
   "execution_count": 4,
   "id": "97c71569",
   "metadata": {},
   "outputs": [
    {
     "name": "stdout",
     "output_type": "stream",
     "text": [
      "Model: \"sequential_1\"\n",
      "_________________________________________________________________\n",
      "Layer (type)                 Output Shape              Param #   \n",
      "=================================================================\n",
      "embedding_1 (Embedding)      (None, 100, 100)          788100    \n",
      "_________________________________________________________________\n",
      "conv1d_1 (Conv1D)            (None, 98, 250)           75250     \n",
      "_________________________________________________________________\n",
      "max_pooling1d_1 (MaxPooling1 (None, 49, 250)           0         \n",
      "_________________________________________________________________\n",
      "dense_3 (Dense)              (None, 49, 20)            5020      \n",
      "_________________________________________________________________\n",
      "dropout_2 (Dropout)          (None, 49, 20)            0         \n",
      "_________________________________________________________________\n",
      "dense_4 (Dense)              (None, 49, 10)            210       \n",
      "_________________________________________________________________\n",
      "dropout_3 (Dropout)          (None, 49, 10)            0         \n",
      "_________________________________________________________________\n",
      "dense_5 (Dense)              (None, 49, 1)             11        \n",
      "=================================================================\n",
      "Total params: 868,591\n",
      "Trainable params: 80,491\n",
      "Non-trainable params: 788,100\n",
      "_________________________________________________________________\n"
     ]
    }
   ],
   "source": [
    "model = tf.keras.models.Sequential()\n",
    "model.add(tf.keras.layers.Embedding(VOC_SIZE, 100, input_length=max_length_sequence, weights = [word_mat], trainable=False))\n",
    "\n",
    "\n",
    "model.add(tf.keras.layers.Conv1D(kernel_size = 3, filters = 250, activation = \"relu\"))\n",
    "model.add(tf.keras.layers.MaxPooling1D())\n",
    "\n",
    "\n",
    "model.add(tf.keras.layers.Dense(20, activation = \"relu\"))\n",
    "model.add(tf.keras.layers.Dropout(0.5))\n",
    "\n",
    "model.add(tf.keras.layers.Dense(10, activation = \"relu\"))\n",
    "model.add(tf.keras.layers.Dropout(0.5))\n",
    "\n",
    "\n",
    "model.add(tf.keras.layers.Dense(1, activation = \"sigmoid\"))\n",
    "\n",
    "\n",
    "\n",
    "model.compile(optimizer = \"adam\", loss = \"binary_crossentropy\", metrics =[\"acc\"])\n",
    "model.summary()"
   ]
  },
  {
   "cell_type": "code",
   "execution_count": null,
   "id": "0ccadac0",
   "metadata": {},
   "outputs": [],
   "source": [
    "# checkpoint_cb = keras.callbacks.ModelCheckpoint(\"model-{epoch:02d}.h5\", save_best_only=True)"
   ]
  },
  {
   "cell_type": "code",
   "execution_count": 5,
   "id": "9ea1e783",
   "metadata": {},
   "outputs": [],
   "source": [
    "y = np.load(\"y.npy\")"
   ]
  },
  {
   "cell_type": "code",
   "execution_count": 6,
   "id": "85b12f42",
   "metadata": {},
   "outputs": [],
   "source": [
    "from sklearn.model_selection import train_test_split\n",
    "X_train, X_test, y_train, y_test = train_test_split(x, y, test_size=0.2)"
   ]
  },
  {
   "cell_type": "code",
   "execution_count": 7,
   "id": "d346cf49",
   "metadata": {},
   "outputs": [
    {
     "name": "stdout",
     "output_type": "stream",
     "text": [
      "Epoch 1/10\n",
      "209/209 [==============================] - 8s 15ms/step - loss: 0.4844 - acc: 0.8547 - val_loss: 0.3704 - val_acc: 0.8802\n",
      "Epoch 2/10\n",
      "209/209 [==============================] - 3s 13ms/step - loss: 0.4298 - acc: 0.8648 - val_loss: 0.3608 - val_acc: 0.8830\n",
      "Epoch 3/10\n",
      "209/209 [==============================] - 3s 14ms/step - loss: 0.4169 - acc: 0.8675 - val_loss: 0.3650 - val_acc: 0.8834\n",
      "Epoch 4/10\n",
      "209/209 [==============================] - 3s 13ms/step - loss: 0.4074 - acc: 0.8694 - val_loss: 0.3669 - val_acc: 0.8841\n",
      "Epoch 5/10\n",
      "209/209 [==============================] - 3s 14ms/step - loss: 0.4012 - acc: 0.8702 - val_loss: 0.3632 - val_acc: 0.8851\n",
      "Epoch 6/10\n",
      "209/209 [==============================] - 3s 13ms/step - loss: 0.3964 - acc: 0.8714 - val_loss: 0.3565 - val_acc: 0.8849\n",
      "Epoch 7/10\n",
      "209/209 [==============================] - 3s 16ms/step - loss: 0.3913 - acc: 0.8728 - val_loss: 0.3534 - val_acc: 0.8856\n",
      "Epoch 8/10\n",
      "209/209 [==============================] - 3s 15ms/step - loss: 0.3860 - acc: 0.8744 - val_loss: 0.3566 - val_acc: 0.8856\n",
      "Epoch 9/10\n",
      "209/209 [==============================] - 3s 15ms/step - loss: 0.3823 - acc: 0.8754 - val_loss: 0.3567 - val_acc: 0.8856\n",
      "Epoch 10/10\n",
      "209/209 [==============================] - 3s 15ms/step - loss: 0.3788 - acc: 0.8760 - val_loss: 0.3565 - val_acc: 0.8859\n"
     ]
    }
   ],
   "source": [
    "history = model.fit(X_train, y_train, epochs = 10, batch_size=16, validation_split=0.25)"
   ]
  },
  {
   "cell_type": "code",
   "execution_count": 8,
   "id": "60498c44",
   "metadata": {},
   "outputs": [
    {
     "data": {
      "image/png": "[encoded data removed]",
      "text/plain": [
       "<Figure size 576x360 with 1 Axes>"
      ]
     },
     "metadata": {
      "needs_background": "light"
     },
     "output_type": "display_data"
    }
   ],
   "source": [
    "import pandas as pd\n",
    "pd.DataFrame(history.history).plot(figsize=(8, 5))\n",
    "plt.grid(True)\n",
    "plt.gca().set_ylim(0, 1)\n",
    "plt.show()"
   ]
  },
  {
   "cell_type": "code",
   "execution_count": 10,
   "id": "24f81e35",
   "metadata": {},
   "outputs": [
    {
     "name": "stdout",
     "output_type": "stream",
     "text": [
      "35/35 [==============================] - 0s 9ms/step - loss: 0.3534 - acc: 0.8874\n"
     ]
    },
    {
     "data": {
      "text/plain": [
       "[0.35342562198638916, 0.8873799443244934]"
      ]
     },
     "execution_count": 10,
     "metadata": {},
     "output_type": "execute_result"
    }
   ],
   "source": [
    "model.evaluate(X_test, y_test)"
   ]
  }
 ],
 "metadata": {
  "kernelspec": {
   "display_name": "Python 3",
   "language": "python",
   "name": "python3"
  },
  "language_info": {
   "codemirror_mode": {
    "name": "ipython",
    "version": 3
   },
   "file_extension": ".py",
   "mimetype": "text/x-python",
   "name": "python",
   "nbconvert_exporter": "python",
   "pygments_lexer": "ipython3",
   "version": "3.8.8"
  }
 },
 "nbformat": 4,
 "nbformat_minor": 5
}
