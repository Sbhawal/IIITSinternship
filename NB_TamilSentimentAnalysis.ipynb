{
 "cells": [
  {
   "cell_type": "code",
   "execution_count": 1,
   "id": "4dc81d15",
   "metadata": {},
   "outputs": [],
   "source": [
    "import numpy as np\n",
    "import pandas as pd \n",
    "\n",
    "import gc\n",
    "import chardet\n",
    "import re\n",
    "\n",
    "import seaborn as sns\n",
    "import matplotlib.pyplot as plt\n",
    "\n",
    "\n",
    "\n",
    "train_file = pd.read_csv(\"tamil_sentiment_full_train.tsv\",sep=\"\\t\")\n",
    "test_file = pd.read_csv(\"tamil_sentiment_full_dev.tsv\",sep=\"\\t\")"
   ]
  },
  {
   "cell_type": "code",
   "execution_count": 2,
   "id": "8f587c08",
   "metadata": {},
   "outputs": [],
   "source": [
    "import itertools\n",
    "def plot_confusion_matrix(cm, classes,normalize=False, title='Confusion matrix', cmap=plt.cm.Blues):\n",
    "    if normalize:\n",
    "        cm = cm.astype('float') / cm.sum(axis=1)[:, np.newaxis]\n",
    "        print(\"Normalized confusion matrix\")\n",
    "    else:\n",
    "        print('Confusion matrix, without normalization')\n",
    "\n",
    "    print(cm)\n",
    "    plt.imshow(cm, interpolation='nearest', cmap=cmap)\n",
    "    plt.title(title)\n",
    "    plt.colorbar()\n",
    "    tick_marks = np.arange(len(classes))\n",
    "    plt.xticks(tick_marks, classes, rotation=45)\n",
    "    plt.yticks(tick_marks, classes)\n",
    "\n",
    "    fmt = '.2f' if normalize else 'd'\n",
    "    thresh = cm.max() / 2.\n",
    "    for i, j in itertools.product(range(cm.shape[0]), range(cm.shape[1])):\n",
    "        plt.text(j, i, format(cm[i, j], fmt),\n",
    "                 horizontalalignment=\"center\",\n",
    "                 verticalalignment=\"center\",\n",
    "                 color=\"blue\" if cm[i, j] > thresh else \"black\")\n",
    "\n",
    "    plt.ylabel('True label')\n",
    "    plt.xlabel('Predicted label')\n",
    "    plt.tight_layout()"
   ]
  },
  {
   "cell_type": "code",
   "execution_count": 3,
   "id": "c625eb40",
   "metadata": {},
   "outputs": [],
   "source": [
    "def perf_measure(y_actual, y_hat):\n",
    "    y_actual=np.array(y_actual)\n",
    "    y_hat=np.array(y_hat)\n",
    "    TP = 0\n",
    "    FP = 0\n",
    "    TN = 0\n",
    "    FN = 0\n",
    "\n",
    "    for i in range(len(y_hat)): \n",
    "        if y_actual[i]==y_hat[i] and y_hat[i]==1:\n",
    "           TP += 1\n",
    "        if y_hat[i]==1 and y_actual[i]!=y_hat[i]:\n",
    "           FP += 1\n",
    "        if y_actual[i]==y_hat[i]==0:\n",
    "           TN += 1\n",
    "        if y_hat[i]==0 and y_actual[i]!=y_hat[i]:\n",
    "           FN += 1\n",
    "\n",
    "    return(TP, FP, TN, FN)"
   ]
  },
  {
   "cell_type": "code",
   "execution_count": 4,
   "id": "4bf1b4f6",
   "metadata": {},
   "outputs": [],
   "source": [
    "from sklearn.metrics import confusion_matrix\n",
    "from sklearn import metrics\n",
    "\n",
    "from sklearn.linear_model import LogisticRegression\n",
    "from sklearn.metrics import confusion_matrix,classification_report\n",
    "\n",
    "\n",
    "from sklearn.metrics import accuracy_score\n",
    "from sklearn.metrics import precision_score\n",
    "from sklearn.metrics import f1_score\n",
    "from sklearn.metrics import recall_score\n",
    "\n",
    "from sklearn.model_selection import train_test_split\n",
    "# X_train, X_test, y_train, y_test = train_test_split(x, y, test_size=0.2)"
   ]
  },
  {
   "cell_type": "code",
   "execution_count": 5,
   "id": "8c9bba9d",
   "metadata": {},
   "outputs": [
    {
     "name": "stdout",
     "output_type": "stream",
     "text": [
      "Int64Index([32852], dtype='int64')\n"
     ]
    }
   ],
   "source": [
    "print(train_file[(train_file.category == 'Positive ')].index)"
   ]
  },
  {
   "cell_type": "code",
   "execution_count": 6,
   "id": "d3e6649d",
   "metadata": {},
   "outputs": [],
   "source": [
    "train_file[\"category\"][32852] = \"Positive\""
   ]
  },
  {
   "cell_type": "code",
   "execution_count": 7,
   "id": "1b609cb0",
   "metadata": {},
   "outputs": [],
   "source": [
    "df_train_reviews = pd.DataFrame(train_file.text)\n",
    "df_test_reviews = pd.DataFrame(test_file.text)\n",
    "df_train_score = pd.DataFrame(train_file.category)\n",
    "df_test_score = pd.DataFrame(test_file.category)\n"
   ]
  },
  {
   "cell_type": "code",
   "execution_count": 8,
   "id": "05ba9ba9",
   "metadata": {},
   "outputs": [
    {
     "name": "stdout",
     "output_type": "stream",
     "text": [
      "(35656, 1) (3962, 1)\n"
     ]
    }
   ],
   "source": [
    "print(df_train_reviews.shape,df_test_reviews.shape)"
   ]
  },
  {
   "cell_type": "code",
   "execution_count": null,
   "id": "4a2d14a6",
   "metadata": {},
   "outputs": [],
   "source": []
  },
  {
   "cell_type": "code",
   "execution_count": null,
   "id": "2f9d4875",
   "metadata": {},
   "outputs": [],
   "source": []
  },
  {
   "cell_type": "code",
   "execution_count": 9,
   "id": "b51921cb",
   "metadata": {},
   "outputs": [],
   "source": [
    "import re, string\n",
    "regex = re.compile('[%s]' % re.escape(string.punctuation))\n",
    "import demoji\n",
    "\n",
    "\n",
    "\n",
    "def preprocessing(document):\n",
    "        document = str(document)\n",
    "        document = demoji.replace_with_desc(document).replace(\":\",\" \").replace(\"-\",\" \")\n",
    "        document = regex.sub('', document)\n",
    "        document = re.sub(r'[0-9]', '', document)\n",
    "\n",
    "        # remove all single characters\n",
    "#         document = re.sub(r'\\s+[a-zA-Z]\\s+', ' ', document)\n",
    "\n",
    "        # Remove single characters from the start\n",
    "#         document = re.sub(r'\\^[a-zA-Z]\\s+', ' ', document)\n",
    "\n",
    "        # Substituting multiple spaces with single space\n",
    "        document = re.sub(r'\\s+', ' ', document, flags=re.I)\n",
    "\n",
    "\n",
    "        # Converting to Lowercase\n",
    "        document = document.lower()\n",
    "        \n",
    "#         document = re.sub(r'(.+?)\\1+', r'\\1', document)\n",
    "\n",
    "        tokens = document.split()\n",
    "\n",
    "        preprocessed_text = ' '.join(tokens)\n",
    "\n",
    "        return preprocessed_text\n",
    "    \n"
   ]
  },
  {
   "cell_type": "code",
   "execution_count": 10,
   "id": "1e795bb1",
   "metadata": {},
   "outputs": [],
   "source": [
    "corpus_train = df_train_reviews.text.apply(preprocessing)\n",
    "corpus_test = df_test_reviews.text.apply(preprocessing)"
   ]
  },
  {
   "cell_type": "code",
   "execution_count": 11,
   "id": "8f63483d",
   "metadata": {},
   "outputs": [
    {
     "data": {
      "text/plain": [
       "0        songsuperbkamallllla im waiting for dis song you\n",
       "1       கணத்ததோர் அகமுடையார் சார்பாக படம் வெற்றி அடைய ...\n",
       "2       thalavia neenga veera level boss and neega tha...\n",
       "3                    oru padam patha fellvera level music\n",
       "4       hairstyle than mattama iruku adhu mattum mathi...\n",
       "                              ...                        \n",
       "3957    நாடக காதல் மிகப்பெரிய தவறு இதை தான் இந்த படம் ...\n",
       "3958                            so long to see you suriya\n",
       "3959    super sk ettan adipoli makkalle dec waiting fo...\n",
       "3960          minimum m viewa vara veppoma all thala fans\n",
       "3961                           vera vera level da version\n",
       "Name: text, Length: 3962, dtype: object"
      ]
     },
     "execution_count": 11,
     "metadata": {},
     "output_type": "execute_result"
    }
   ],
   "source": [
    "corpus_test "
   ]
  },
  {
   "cell_type": "code",
   "execution_count": null,
   "id": "bbe18b27",
   "metadata": {},
   "outputs": [],
   "source": []
  },
  {
   "cell_type": "code",
   "execution_count": 12,
   "id": "a7c2d122",
   "metadata": {},
   "outputs": [
    {
     "data": {
      "text/plain": [
       "(35656, 1500)"
      ]
     },
     "execution_count": 12,
     "metadata": {},
     "output_type": "execute_result"
    }
   ],
   "source": [
    "from sklearn.feature_extraction.text import TfidfVectorizer\n",
    "#cv = TfidfVectorizer(ngram_range=(1,2))\n",
    "cv = TfidfVectorizer(max_features=1500)\n",
    "X_train = cv.fit_transform(corpus_train).toarray()\n",
    "X_test = cv.transform(corpus_test).toarray()\n",
    "X_train.shape"
   ]
  },
  {
   "cell_type": "code",
   "execution_count": 13,
   "id": "02fa8a01",
   "metadata": {},
   "outputs": [
    {
     "data": {
      "text/plain": [
       "pandas.core.frame.DataFrame"
      ]
     },
     "execution_count": 13,
     "metadata": {},
     "output_type": "execute_result"
    }
   ],
   "source": [
    "type(df_test_score)"
   ]
  },
  {
   "cell_type": "code",
   "execution_count": 14,
   "id": "7e17822c",
   "metadata": {},
   "outputs": [],
   "source": [
    "# Feature Scaling\n",
    "from sklearn.preprocessing import StandardScaler,MinMaxScaler\n",
    "sc = MinMaxScaler()\n",
    "X_train = sc.fit_transform(X_train)\n",
    "X_test = sc.transform(X_test)"
   ]
  },
  {
   "cell_type": "code",
   "execution_count": null,
   "id": "66f45b11",
   "metadata": {},
   "outputs": [],
   "source": []
  },
  {
   "cell_type": "code",
   "execution_count": null,
   "id": "03be750e",
   "metadata": {},
   "outputs": [],
   "source": []
  },
  {
   "cell_type": "markdown",
   "id": "4948a37f",
   "metadata": {},
   "source": [
    "# Naive Bayes"
   ]
  },
  {
   "cell_type": "code",
   "execution_count": 22,
   "id": "7aa7cde5",
   "metadata": {},
   "outputs": [
    {
     "name": "stderr",
     "output_type": "stream",
     "text": [
      "c:\\users\\mailt\\anaconda3\\envs\\gpu\\lib\\site-packages\\sklearn\\utils\\validation.py:63: DataConversionWarning: A column-vector y was passed when a 1d array was expected. Please change the shape of y to (n_samples, ), for example using ravel().\n",
      "  return f(*args, **kwargs)\n"
     ]
    }
   ],
   "source": [
    "#Naive bayes classification\n",
    "from sklearn.naive_bayes import MultinomialNB\n",
    "\n",
    "classifier = MultinomialNB(alpha = 1 , fit_prior=True, class_prior=None)\n",
    "classifier.fit(X_train, df_train_score)\n",
    "y_pred = classifier.predict(X_test)"
   ]
  },
  {
   "cell_type": "code",
   "execution_count": 23,
   "id": "7aeedff2",
   "metadata": {},
   "outputs": [
    {
     "name": "stdout",
     "output_type": "stream",
     "text": [
      "                precision    recall  f1-score   support\n",
      "\n",
      "Mixed_feelings       0.29      0.09      0.14       438\n",
      "      Negative       0.44      0.31      0.36       480\n",
      "      Positive       0.66      0.91      0.77      2257\n",
      "     not-Tamil       0.68      0.45      0.54       176\n",
      " unknown_state       0.47      0.23      0.31       611\n",
      "\n",
      "      accuracy                           0.62      3962\n",
      "     macro avg       0.51      0.40      0.42      3962\n",
      "  weighted avg       0.57      0.62      0.57      3962\n",
      "\n"
     ]
    }
   ],
   "source": [
    "print(classification_report(df_test_score,y_pred))"
   ]
  },
  {
   "cell_type": "code",
   "execution_count": null,
   "id": "cdce14d6",
   "metadata": {},
   "outputs": [],
   "source": []
  },
  {
   "cell_type": "code",
   "execution_count": null,
   "id": "66f3ca07",
   "metadata": {},
   "outputs": [],
   "source": []
  },
  {
   "cell_type": "code",
   "execution_count": null,
   "id": "a297ddba",
   "metadata": {},
   "outputs": [],
   "source": []
  }
 ],
 "metadata": {
  "kernelspec": {
   "display_name": "Python 3",
   "language": "python",
   "name": "python3"
  },
  "language_info": {
   "codemirror_mode": {
    "name": "ipython",
    "version": 3
   },
   "file_extension": ".py",
   "mimetype": "text/x-python",
   "name": "python",
   "nbconvert_exporter": "python",
   "pygments_lexer": "ipython3",
   "version": "3.8.10"
  }
 },
 "nbformat": 4,
 "nbformat_minor": 5
}
